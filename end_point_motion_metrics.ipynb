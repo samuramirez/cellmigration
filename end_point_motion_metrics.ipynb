{
  "nbformat": 4,
  "nbformat_minor": 0,
  "metadata": {
    "colab": {
      "name": "end_point_motion_metrics.ipynb",
      "provenance": [],
      "collapsed_sections": [
        "0tPmRJzduXPO",
        "zewOLlkdueG6",
        "-ImBWvbZtsuY",
        "KuzF4JTXjV2B",
        "JZla0KEq27cK",
        "c8NrduMLjeoF",
        "ykvwm848-Tmr",
        "1-gcoIyN-dHZ",
        "vv1_4NavYm6L"
      ],
      "mount_file_id": "1I5JkS-5pv0jjpNPJj6aYqfBbBPlH6oj4",
      "authorship_tag": "ABX9TyP98wpmxLuVKLssWOgD+EvS",
      "include_colab_link": true
    },
    "kernelspec": {
      "name": "python3",
      "display_name": "Python 3"
    },
    "language_info": {
      "name": "python"
    }
  },
  "cells": [
    {
      "cell_type": "markdown",
      "metadata": {
        "id": "view-in-github",
        "colab_type": "text"
      },
      "source": [
        "<a href=\"https://colab.research.google.com/github/samuramirez/cellmigration/blob/master/end_point_motion_metrics.ipynb\" target=\"_parent\"><img src=\"https://colab.research.google.com/assets/colab-badge.svg\" alt=\"Open In Colab\"/></a>"
      ]
    },
    {
      "cell_type": "markdown",
      "metadata": {
        "id": "TkcNzEsIW-Py"
      },
      "source": [
        "##Get end-point motion metrics per cell"
      ]
    },
    {
      "cell_type": "markdown",
      "metadata": {
        "id": "5mvQa2M5Ausc"
      },
      "source": [
        "### Mount Google Drive (Colab can see Drive files) and authenticate so that we can interact with GCP via SDK"
      ]
    },
    {
      "cell_type": "code",
      "metadata": {
        "colab": {
          "base_uri": "https://localhost:8080/"
        },
        "id": "eKZbquC3Ausg",
        "outputId": "80233441-eeae-41f9-fdaa-95c7ed4abc46"
      },
      "source": [
        "from google.colab import drive\n",
        "drive.mount('/content/drive')"
      ],
      "execution_count": 1,
      "outputs": [
        {
          "output_type": "stream",
          "name": "stdout",
          "text": [
            "Mounted at /content/drive\n"
          ]
        }
      ]
    },
    {
      "cell_type": "code",
      "metadata": {
        "id": "sAF_cEvVAusj"
      },
      "source": [
        "from google.colab import auth\n",
        "#This allows SDK to see and edit Google Drive files\n",
        "#SDK is required to interact with GCP\n",
        "auth.authenticate_user()"
      ],
      "execution_count": 2,
      "outputs": []
    },
    {
      "cell_type": "markdown",
      "metadata": {
        "id": "0tPmRJzduXPO"
      },
      "source": [
        "### Import libraries"
      ]
    },
    {
      "cell_type": "code",
      "metadata": {
        "id": "EG9dpcwE5P6b"
      },
      "source": [
        "import numpy as np\n",
        "import matplotlib \n",
        "import matplotlib.pyplot as plt\n",
        "import pandas as pd\n",
        "import scipy.io\n",
        "import os\n",
        "import os.path\n",
        "from numpy import linalg as LA\n",
        "import pickle\n",
        "from os import listdir\n",
        "from os.path import isfile, join\n",
        "import re\n",
        "import csv\n",
        "from copy import deepcopy, copy\n",
        "import glob\n",
        "from scipy import stats\n",
        "import ntpath\n",
        "from skimage.io import imread, imsave, imshow\n",
        "from scipy.stats import pearsonr\n",
        "from scipy.stats import sem\n",
        "from random import choices\n",
        "\n",
        "#Get from Drive the folder libraries\n",
        "!cp -r /content/drive/MyDrive/libraries /content\n",
        "from libraries.track_functions import *\n"
      ],
      "execution_count": 3,
      "outputs": []
    },
    {
      "cell_type": "code",
      "metadata": {
        "id": "-cvTsGUzWIM6"
      },
      "source": [
        "!command -v ffmpeg >/dev/null || (apt update && apt install -y ffmpeg)\n",
        "!pip install -q mediapy\n",
        "\n",
        "import itertools\n",
        "import math\n",
        "\n",
        "import mediapy as media\n",
        "import matplotlib.pyplot as plt\n",
        "import numpy as np"
      ],
      "execution_count": 4,
      "outputs": []
    },
    {
      "cell_type": "code",
      "metadata": {
        "id": "dXx43cdDeqbq"
      },
      "source": [
        "#!pip install heteromotility"
      ],
      "execution_count": 5,
      "outputs": []
    },
    {
      "cell_type": "code",
      "source": [
        "def pearsonr_df(df):\n",
        "  df_clean = df.dropna()\n",
        "  return pearsonr(df_clean.iloc[:,0], df_clean.iloc[:,1])"
      ],
      "metadata": {
        "id": "24GpBkI95ckj"
      },
      "execution_count": 6,
      "outputs": []
    },
    {
      "cell_type": "markdown",
      "metadata": {
        "id": "zewOLlkdueG6"
      },
      "source": [
        "###Input (read treatment data) and set output destination"
      ]
    },
    {
      "cell_type": "code",
      "metadata": {
        "id": "vEXmEcbDB9Uz"
      },
      "source": [
        "#set destination path\n",
        "output_path= 'gs://cellmbucket/analysis'"
      ],
      "execution_count": 7,
      "outputs": []
    },
    {
      "cell_type": "code",
      "metadata": {
        "id": "i0MBeDYGuxuS"
      },
      "source": [
        "treatment_paths = ['cellmbucket/analysis/controls_old_new_paths.txt','cellmbucket/analysis/controls_paths.txt','cellmbucket/analysis/arpc2_control_paths.txt','cellmbucket/analysis/fascin_control_paths.txt']\n",
        "#treatment_paths = ['cellmbucket/analysis/controls_old_new_paths.txt']\n",
        "#treatment_paths = ['cellmbucket/analysis/controls_paths.txt','cellmbucket/analysis/arpc2_control_paths.txt','cellmbucket/analysis/fascin_control_paths.txt']\n",
        "\n",
        "treatment = 'all'\n",
        "\n",
        "if os.path.isdir(treatment):\n",
        "  !rm -r {treatment}\n",
        "\n",
        "!mkdir {treatment}"
      ],
      "execution_count": 8,
      "outputs": []
    },
    {
      "cell_type": "code",
      "metadata": {
        "id": "aMYAiN0b7AOb",
        "colab": {
          "base_uri": "https://localhost:8080/"
        },
        "outputId": "0d58c3c6-ce88-4b77-ed0b-acba458fe613"
      },
      "source": [
        "#read treatment locations file\n",
        "file_paths =[]\n",
        "\n",
        "for treatment_path in treatment_paths:\n",
        "\n",
        "  !gsutil cp gs://{treatment_path} ./\n",
        "  treatment_file = ntpath.basename(treatment_path)\n",
        "  treatment_obj = open(treatment_file, \"r\")\n",
        "  treatment_locs = treatment_obj.readlines()\n",
        "  for i in range(1,len(treatment_locs)):\n",
        "    if len(treatment_locs[i].strip(\"\\n\")) > 0: #if line contains data\n",
        "      #file_paths.append(treatment_locs[i].strip(\"\\n\")+'_tracks_shape.pkl')\n",
        "      file_paths.append(treatment_locs[i].strip(\"\\n\"))   \n"
      ],
      "execution_count": 9,
      "outputs": [
        {
          "output_type": "stream",
          "name": "stdout",
          "text": [
            "Copying gs://cellmbucket/analysis/controls_old_new_paths.txt...\n",
            "/ [0 files][    0.0 B/  311.0 B]                                                \r/ [1 files][  311.0 B/  311.0 B]                                                \r\n",
            "Operation completed over 1 objects/311.0 B.                                      \n",
            "Copying gs://cellmbucket/analysis/controls_paths.txt...\n",
            "/ [1 files][  345.0 B/  345.0 B]                                                \n",
            "Operation completed over 1 objects/345.0 B.                                      \n",
            "Copying gs://cellmbucket/analysis/arpc2_control_paths.txt...\n",
            "/ [1 files][  290.0 B/  290.0 B]                                                \n",
            "Operation completed over 1 objects/290.0 B.                                      \n",
            "Copying gs://cellmbucket/analysis/fascin_control_paths.txt...\n",
            "/ [1 files][  224.0 B/  224.0 B]                                                \n",
            "Operation completed over 1 objects/224.0 B.                                      \n"
          ]
        }
      ]
    },
    {
      "cell_type": "code",
      "metadata": {
        "id": "dIyi9g8LZmXk",
        "colab": {
          "base_uri": "https://localhost:8080/"
        },
        "outputId": "70802709-8e20-4a24-993e-e5998b4efa8d"
      },
      "source": [
        "file_paths"
      ],
      "execution_count": 10,
      "outputs": [
        {
          "output_type": "execute_result",
          "data": {
            "text/plain": [
              "['cellmbucket/analysis_eliz_09162021/09162021',\n",
              " 'cellmbucket/analysis_eliz_062719/controls_2019_062719_sample1',\n",
              " 'cellmbucket/analysis_eliz_062719/controls_2019_062719_sample2',\n",
              " 'cellmbucket/analysis_sam_062819/controls_2019_062819_sample1',\n",
              " 'cellmbucket/analysis_sam_062819/controls_2019_062819_sample2',\n",
              " 'cellmbucket/analysis_042221/06032020-JR20-control',\n",
              " 'cellmbucket/analysis_pri_050521/03122021-JR20P14-control-sample5',\n",
              " 'cellmbucket/analysis_pri_050521/03122021-JR20P14-control',\n",
              " 'cellmbucket/analysis_sam_042821/031521_control_sample3',\n",
              " 'cellmbucket/analysis_sam_042821/031521_control_sample4',\n",
              " 'cellmbucket/analysis_sam_042821/031521_control_sample5',\n",
              " 'cellmbucket/analysis_eliz_05042021/trial1/05042021_ARPC2_KO_sample6',\n",
              " 'cellmbucket/analysis_eliz_05042021/trial3/05112021_ARPC2_KO_sample3',\n",
              " 'cellmbucket/analysis_eliz_05042021/trial4/05202021_ARPC2_KO_sample4',\n",
              " 'cellmbucket/analysis_eliz_05042021/trial5/060622021_ARPC2_KO_sample3',\n",
              " 'cellmbucket/analysis_eliz_05262021/trial1/052622021_Fascin_KO_sample3',\n",
              " 'cellmbucket/analysis_eliz_05262021/trial2/052822021_Fascin_KO_sample3',\n",
              " 'cellmbucket/analysis_eliz_05262021/trial3/060222021_Fascin_KO_sample3']"
            ]
          },
          "metadata": {},
          "execution_count": 10
        }
      ]
    },
    {
      "cell_type": "code",
      "metadata": {
        "id": "TVEdQm5lLQ1r"
      },
      "source": [
        "#Parameters to compute motion metrics\n",
        "center='approximate-medoid'\n",
        "pixel_size=2*0.645 #um. factor of 2 because image was rescaled\n",
        "sampling_t=1 #sampling time (10min)"
      ],
      "execution_count": 11,
      "outputs": []
    },
    {
      "cell_type": "code",
      "metadata": {
        "id": "26zxU4vRHedA",
        "colab": {
          "base_uri": "https://localhost:8080/"
        },
        "outputId": "023f4565-d67b-4d54-b221-3e49a7e8ff4e"
      },
      "source": [
        "#READ TRACKS\n",
        "for file in file_paths:\n",
        "  #GET TRACKS\n",
        "  !gsutil cp gs://{file}_tracks_shape.pkl ./{treatment}\n",
        "  "
      ],
      "execution_count": 12,
      "outputs": [
        {
          "output_type": "stream",
          "name": "stdout",
          "text": [
            "Copying gs://cellmbucket/analysis_eliz_09162021/09162021_tracks_shape.pkl...\n",
            "/ [1 files][514.6 KiB/514.6 KiB]                                                \n",
            "Operation completed over 1 objects/514.6 KiB.                                    \n",
            "Copying gs://cellmbucket/analysis_eliz_062719/controls_2019_062719_sample1_tracks_shape.pkl...\n",
            "/ [1 files][737.3 KiB/737.3 KiB]                                                \n",
            "Operation completed over 1 objects/737.3 KiB.                                    \n",
            "Copying gs://cellmbucket/analysis_eliz_062719/controls_2019_062719_sample2_tracks_shape.pkl...\n",
            "/ [1 files][846.6 KiB/846.6 KiB]                                                \n",
            "Operation completed over 1 objects/846.6 KiB.                                    \n",
            "Copying gs://cellmbucket/analysis_sam_062819/controls_2019_062819_sample1_tracks_shape.pkl...\n",
            "/ [1 files][795.8 KiB/795.8 KiB]                                                \n",
            "Operation completed over 1 objects/795.8 KiB.                                    \n",
            "Copying gs://cellmbucket/analysis_sam_062819/controls_2019_062819_sample2_tracks_shape.pkl...\n",
            "/ [1 files][782.4 KiB/782.4 KiB]                                                \n",
            "Operation completed over 1 objects/782.4 KiB.                                    \n",
            "Copying gs://cellmbucket/analysis_042221/06032020-JR20-control_tracks_shape.pkl...\n",
            "/ [1 files][500.4 KiB/500.4 KiB]                                                \n",
            "Operation completed over 1 objects/500.4 KiB.                                    \n",
            "Copying gs://cellmbucket/analysis_pri_050521/03122021-JR20P14-control-sample5_tracks_shape.pkl...\n",
            "/ [1 files][460.3 KiB/460.3 KiB]                                                \n",
            "Operation completed over 1 objects/460.3 KiB.                                    \n",
            "Copying gs://cellmbucket/analysis_pri_050521/03122021-JR20P14-control_tracks_shape.pkl...\n",
            "/ [1 files][756.9 KiB/756.9 KiB]                                                \n",
            "Operation completed over 1 objects/756.9 KiB.                                    \n",
            "Copying gs://cellmbucket/analysis_sam_042821/031521_control_sample3_tracks_shape.pkl...\n",
            "/ [1 files][231.2 KiB/231.2 KiB]                                                \n",
            "Operation completed over 1 objects/231.2 KiB.                                    \n",
            "Copying gs://cellmbucket/analysis_sam_042821/031521_control_sample4_tracks_shape.pkl...\n",
            "/ [1 files][367.8 KiB/367.8 KiB]                                                \n",
            "Operation completed over 1 objects/367.8 KiB.                                    \n",
            "Copying gs://cellmbucket/analysis_sam_042821/031521_control_sample5_tracks_shape.pkl...\n",
            "/ [1 files][200.2 KiB/200.2 KiB]                                                \n",
            "Operation completed over 1 objects/200.2 KiB.                                    \n",
            "Copying gs://cellmbucket/analysis_eliz_05042021/trial1/05042021_ARPC2_KO_sample6_tracks_shape.pkl...\n",
            "/ [1 files][448.1 KiB/448.1 KiB]                                                \n",
            "Operation completed over 1 objects/448.1 KiB.                                    \n",
            "Copying gs://cellmbucket/analysis_eliz_05042021/trial3/05112021_ARPC2_KO_sample3_tracks_shape.pkl...\n",
            "/ [1 files][979.4 KiB/979.4 KiB]                                                \n",
            "Operation completed over 1 objects/979.4 KiB.                                    \n",
            "Copying gs://cellmbucket/analysis_eliz_05042021/trial4/05202021_ARPC2_KO_sample4_tracks_shape.pkl...\n",
            "/ [1 files][385.0 KiB/385.0 KiB]                                                \n",
            "Operation completed over 1 objects/385.0 KiB.                                    \n",
            "Copying gs://cellmbucket/analysis_eliz_05042021/trial5/060622021_ARPC2_KO_sample3_tracks_shape.pkl...\n",
            "/ [1 files][820.1 KiB/820.1 KiB]                                                \n",
            "Operation completed over 1 objects/820.1 KiB.                                    \n",
            "Copying gs://cellmbucket/analysis_eliz_05262021/trial1/052622021_Fascin_KO_sample3_tracks_shape.pkl...\n",
            "/ [1 files][715.4 KiB/715.4 KiB]                                                \n",
            "Operation completed over 1 objects/715.4 KiB.                                    \n",
            "Copying gs://cellmbucket/analysis_eliz_05262021/trial2/052822021_Fascin_KO_sample3_tracks_shape.pkl...\n",
            "/ [1 files][651.8 KiB/651.8 KiB]                                                \n",
            "Operation completed over 1 objects/651.8 KiB.                                    \n",
            "Copying gs://cellmbucket/analysis_eliz_05262021/trial3/060222021_Fascin_KO_sample3_tracks_shape.pkl...\n",
            "/ [1 files][698.5 KiB/698.5 KiB]                                                \n",
            "Operation completed over 1 objects/698.5 KiB.                                    \n"
          ]
        }
      ]
    },
    {
      "cell_type": "code",
      "metadata": {
        "id": "HXUbrQymYMGq"
      },
      "source": [
        "#READ MASKS\n",
        "#for file in file_paths:\n",
        "\n",
        "  #!gsutil cp gs://{file}_tracks_masks.zip ./{treatment}\n",
        "  #!unzip ./{treatment}/{ntpath.basename(file+'_tracks_masks.zip')} -d ./controls"
      ],
      "execution_count": 13,
      "outputs": []
    },
    {
      "cell_type": "markdown",
      "metadata": {
        "id": "-ImBWvbZtsuY"
      },
      "source": [
        "###Compile tracks and get end-point metrics"
      ]
    },
    {
      "cell_type": "code",
      "metadata": {
        "id": "Wqip8j6WMPcU"
      },
      "source": [
        "#COMPILE TREATMENT TRACKS\n",
        "tracks =[]\n",
        "tracks_geo =[]\n",
        "\n",
        "for file in file_paths:\n",
        "  tracksp,tracksgeop = read_tracks_aut([treatment+'/'+ ntpath.basename(file)+'_tracks_shape.pkl'] ,pixel_size,center)\n",
        "  #!rm ./{treatment+'/'+ntpath.basename(file)}\n",
        "  if len(tracksp)==0: print(\"number of tracks read is 0\")\n",
        "  #tracksp=smooth_tracks(tracksp,3)\n",
        "\n",
        "  #remove tracks with less than 11 points\n",
        "  tracksp = [track for track in tracksp if len(track) > 10 ]\n",
        "  tracksgeop = [track for track in tracksgeop if len(track) > 10 ]\n",
        "\n",
        "  tracks += tracksp\n",
        "  tracks_geo += tracksgeop\n",
        " "
      ],
      "execution_count": 14,
      "outputs": []
    },
    {
      "cell_type": "code",
      "metadata": {
        "id": "WhAMUhJEH4uz"
      },
      "source": [
        "#GET CELL-AVERAGED METRICS, get gel-region, experiment\n",
        "gelregion=[]\n",
        "experiment=[]\n",
        "trackid=[]\n",
        "absskew=[]\n",
        "mean_retr_norm_radii=[]\n",
        "\n",
        "for i in range(len(tracks_geo)):\n",
        "  gelregion.append( tracks_geo[i][\"gel-region\"].iloc[0])\n",
        "  experiment.append(tracks_geo[i][\"experiment\"].iloc[0])\n",
        "  trackid.append(tracks_geo[i][\"track_id\"].iloc[0])\n",
        "  absskew.append(tracks_geo[i][\"abs-skew\"].mean())\n",
        "  mean_retr_norm_radii.append(tracks_geo[i][\"mean_retr_norm_radii\"].mean())"
      ],
      "execution_count": 15,
      "outputs": []
    },
    {
      "cell_type": "code",
      "metadata": {
        "id": "QM0CknK0o7AB",
        "colab": {
          "base_uri": "https://localhost:8080/"
        },
        "outputId": "16676e4e-91c1-4669-ba1b-cd5d0b265ee0"
      },
      "source": [
        "#GET TRACKS MOTION METRICS AND ADD GEL-REGION AND EXPERIMENT\n",
        "stepsizes,turns,meancoskturn,stderrcoskturn, tseries_stats, endpointcells = basic_stats(tracks,pixel_size,sampling_t)\n",
        "endpointcells['gel-region']=gelregion\n",
        "endpointcells['experiment']=experiment\n",
        "endpointcells['track_id']=trackid\n",
        "endpointcells['abs-skew']=absskew\n",
        "endpointcells['mean_retr_norm_radii']=mean_retr_norm_radii\n"
      ],
      "execution_count": 16,
      "outputs": [
        {
          "output_type": "stream",
          "name": "stderr",
          "text": [
            "/content/libraries/track_functions.py:205: RuntimeWarning: invalid value encountered in true_divide\n",
            "  meanpathlength=sum_pathlengths/nlengths\n",
            "/content/libraries/track_functions.py:206: RuntimeWarning: invalid value encountered in true_divide\n",
            "  stddevpathlength = np.sqrt(sum_squared_pathlengths/nlengths - meanpathlength**2 )\n",
            "/content/libraries/track_functions.py:208: RuntimeWarning: invalid value encountered in true_divide\n",
            "  meanfmi=sum_fmis/nlengths\n",
            "/content/libraries/track_functions.py:209: RuntimeWarning: invalid value encountered in true_divide\n",
            "  stddevfmi = np.sqrt(sum_squared_fmis/nlengths - meanfmi**2 )\n",
            "/content/libraries/track_functions.py:211: RuntimeWarning: invalid value encountered in true_divide\n",
            "  meanpmi=sum_pmis/nlengths\n",
            "/content/libraries/track_functions.py:212: RuntimeWarning: invalid value encountered in true_divide\n",
            "  stddevpmi = np.sqrt(sum_squared_pmis/nlengths - meanpmi**2 )\n",
            "/content/libraries/track_functions.py:214: RuntimeWarning: invalid value encountered in true_divide\n",
            "  meanDT=sum_DTs/nlengths\n",
            "/content/libraries/track_functions.py:215: RuntimeWarning: invalid value encountered in true_divide\n",
            "  stddevDT = np.sqrt(sum_squared_DTs/nlengths - meanDT**2 )\n"
          ]
        }
      ]
    },
    {
      "cell_type": "code",
      "metadata": {
        "id": "RKBSFs1dGoBV"
      },
      "source": [
        "#endpointcells"
      ],
      "execution_count": 17,
      "outputs": []
    },
    {
      "cell_type": "code",
      "metadata": {
        "id": "RKCa7XyLh5ZV",
        "colab": {
          "base_uri": "https://localhost:8080/"
        },
        "outputId": "311c6dec-3c5f-4f0f-b280-3390ab274f64"
      },
      "source": [
        "track_ind_high = np.where((endpointcells[\"T\"] >= 200) & (endpointcells[\"gel-region\"] == \"gradient2\")  )[0]\n",
        "pearsonr(endpointcells['abs-skew'].iloc[track_ind_high],endpointcells['FMI'].iloc[track_ind_high])"
      ],
      "execution_count": 18,
      "outputs": [
        {
          "output_type": "execute_result",
          "data": {
            "text/plain": [
              "(0.3161254802600695, 0.006072086637835959)"
            ]
          },
          "metadata": {},
          "execution_count": 18
        }
      ]
    },
    {
      "cell_type": "code",
      "metadata": {
        "id": "fvMarcFiu9_g",
        "colab": {
          "base_uri": "https://localhost:8080/",
          "height": 359
        },
        "outputId": "af6a2935-a4d9-4409-8f1a-2cc84dd15550"
      },
      "source": [
        "plt.hist(endpointcells[\"FMI\"])"
      ],
      "execution_count": 21,
      "outputs": [
        {
          "output_type": "execute_result",
          "data": {
            "text/plain": [
              "(array([ 15.,  19.,  44.,  75., 185., 159.,  70.,  41.,  12.,  12.]),\n",
              " array([-0.86292093, -0.68051431, -0.49810769, -0.31570108, -0.13329446,\n",
              "         0.04911215,  0.23151877,  0.41392538,  0.596332  ,  0.77873861,\n",
              "         0.96114523]),\n",
              " <a list of 10 Patch objects>)"
            ]
          },
          "metadata": {},
          "execution_count": 21
        },
        {
          "output_type": "display_data",
          "data": {
            "image/png": "[encoded data removed]",
            "text/plain": [
              "<Figure size 432x288 with 1 Axes>"
            ]
          },
          "metadata": {
            "needs_background": "light"
          }
        }
      ]
    },
    {
      "cell_type": "code",
      "metadata": {
        "id": "9huuVnp92ByY",
        "colab": {
          "base_uri": "https://localhost:8080/",
          "height": 359
        },
        "outputId": "a16d085a-65f0-4c00-886c-11355a4704b1"
      },
      "source": [
        "plt.hist(endpointcells[\"abs-skew\"])"
      ],
      "execution_count": 22,
      "outputs": [
        {
          "output_type": "execute_result",
          "data": {
            "text/plain": [
              "(array([186., 225., 136.,  49.,  24.,   6.,   3.,   2.,   0.,   1.]),\n",
              " array([0.04254058, 0.21931112, 0.39608167, 0.57285221, 0.74962275,\n",
              "        0.9263933 , 1.10316384, 1.27993439, 1.45670493, 1.63347547,\n",
              "        1.81024602]),\n",
              " <a list of 10 Patch objects>)"
            ]
          },
          "metadata": {},
          "execution_count": 22
        },
        {
          "output_type": "display_data",
          "data": {
            "image/png": "[encoded data removed]",
            "text/plain": [
              "<Figure size 432x288 with 1 Axes>"
            ]
          },
          "metadata": {
            "needs_background": "light"
          }
        }
      ]
    },
    {
      "cell_type": "code",
      "source": [
        ""
      ],
      "metadata": {
        "id": "NULw_bJn6fJw"
      },
      "execution_count": null,
      "outputs": []
    }
  ]
}