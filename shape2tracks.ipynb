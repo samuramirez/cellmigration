{
  "nbformat": 4,
  "nbformat_minor": 0,
  "metadata": {
    "colab": {
      "name": "shape2tracks.ipynb",
      "provenance": [],
      "collapsed_sections": [
        "gvEFAiXtwdUC",
        "uD3EaZwd3bfF",
        "DTGWU7iV7EMz",
        "i--x8-NSBNvO"
      ],
      "include_colab_link": true
    },
    "kernelspec": {
      "name": "python3",
      "display_name": "Python 3"
    },
    "language_info": {
      "name": "python"
    }
  },
  "cells": [
    {
      "cell_type": "markdown",
      "metadata": {
        "id": "view-in-github",
        "colab_type": "text"
      },
      "source": [
        "<a href=\"https://colab.research.google.com/github/samuramirez/cellmigration/blob/master/shape2tracks.ipynb\" target=\"_parent\"><img src=\"https://colab.research.google.com/assets/colab-badge.svg\" alt=\"Open In Colab\"/></a>"
      ]
    },
    {
      "cell_type": "markdown",
      "metadata": {
        "id": "5mvQa2M5Ausc"
      },
      "source": [
        "### Mount Google Drive (Colab can see Drive files) and authenticate so that we can interact with GCP via SDK"
      ]
    },
    {
      "cell_type": "code",
      "metadata": {
        "colab": {
          "base_uri": "https://localhost:8080/"
        },
        "id": "eKZbquC3Ausg",
        "outputId": "00af1555-60d6-4c56-b885-d8021eee436e"
      },
      "source": [
        "from google.colab import drive\n",
        "drive.mount('/content/drive')"
      ],
      "execution_count": 2,
      "outputs": [
        {
          "output_type": "stream",
          "text": [
            "Drive already mounted at /content/drive; to attempt to forcibly remount, call drive.mount(\"/content/drive\", force_remount=True).\n"
          ],
          "name": "stdout"
        }
      ]
    },
    {
      "cell_type": "code",
      "metadata": {
        "id": "sAF_cEvVAusj"
      },
      "source": [
        "from google.colab import auth\n",
        "#This allows SDK to see and edit Google Drive files\n",
        "#SDK is required to interact with GCP\n",
        "auth.authenticate_user()"
      ],
      "execution_count": 3,
      "outputs": []
    },
    {
      "cell_type": "markdown",
      "metadata": {
        "id": "Neqk84E9qYUr"
      },
      "source": [
        "# Add cell shape features to tracks"
      ]
    },
    {
      "cell_type": "markdown",
      "metadata": {
        "id": "gvEFAiXtwdUC"
      },
      "source": [
        "### Load required libraries "
      ]
    },
    {
      "cell_type": "code",
      "metadata": {
        "id": "Yrrdabb6wdUE"
      },
      "source": [
        "import numpy as np\n",
        "from ipywidgets import interact, widgets, Layout\n",
        "import matplotlib.pyplot as plt\n",
        "from matplotlib import cm\n",
        "from skimage.io import imread, imsave, imshow\n",
        "from skimage import data, filters, measure, morphology\n",
        "from skimage.exposure import rescale_intensity\n",
        "from skimage.transform import rescale, resize, downscale_local_mean, rotate\n",
        "from skimage.measure import  regionprops, regionprops_table\n",
        "import pandas as pd\n",
        "import ntpath\n",
        "import os\n",
        "import pickle\n",
        "import copy\n",
        "import re\n",
        "import glob\n",
        "from scipy.stats import skew\n",
        "from google.cloud import storage\n",
        "\n",
        "\n",
        "#Get from Drive the folder libraries\n",
        "!cp -r /content/drive/MyDrive/libraries/centers.py /content\n",
        "from centers import get_centers"
      ],
      "execution_count": 8,
      "outputs": []
    },
    {
      "cell_type": "markdown",
      "metadata": {
        "id": "FQDvtQ4inCxi"
      },
      "source": [
        "###Specify names for bucket and analysis data folder to read data"
      ]
    },
    {
      "cell_type": "code",
      "metadata": {
        "id": "C-BWBWbpkNJb",
        "cellView": "form"
      },
      "source": [
        "#@markdown Input required to copy data from bucket to colab (tracks, images and masks)\n",
        "\n",
        "#@markdown bucketName is the GCP bucket where data is stored\n",
        "bucketName = 'cellmbucket' #@param {type:\"string\"}\n",
        "#@markdown analysis_folder is the name of the base folder in the bucket where the trial folders are found (same name as output_path in segmentationQC_trackingQC notebook excluding '/trial#' part)\n",
        "analysis_folder='analysis_sam_042821'  #@param {type:\"string\"}\n",
        "\n",
        "#bucketName = os.environ.get('cellmbucket')\n",
        "os.environ['GCLOUD_PROJECT'] = bucketName\n",
        "\n",
        "storage_client = storage.Client()\n",
        "bucket = storage_client.get_bucket(bucketName)"
      ],
      "execution_count": 23,
      "outputs": []
    },
    {
      "cell_type": "markdown",
      "metadata": {
        "id": "uD3EaZwd3bfF"
      },
      "source": [
        "###Define functions"
      ]
    },
    {
      "cell_type": "code",
      "metadata": {
        "id": "f3D4gh9w3aRu"
      },
      "source": [
        "#function to read a mask corresponding to a given movie (implicit parameter), and frame (explicit parameter iframe)\n",
        "get_mask = lambda iframe: imread( masks_folder +'/'+ basename+ '_s' + str(int(movie)) +'_t' + str(int(frame[iframe])) + '.TIF')\n",
        "\n",
        "#function that returns the mask of a cell centered. It takes the cell label in the mask, and the movie\n",
        "#as implicit parameters determined by the track information (as used later). \n",
        "def get_centered_cell(iframe):\n",
        "  mask=get_mask(iframe)\n",
        "  #erase all objects with different label as cell\n",
        "  mask[mask != label[iframe] ] =0\n",
        "  #set cell positions as 1\n",
        "  mask[mask > 0 ] = 1\n",
        "  props = measure.regionprops(mask)\n",
        "  #center image\n",
        "  centroid=props[0].centroid\n",
        "  N=mask.shape\n",
        "  centered=mask[np.ix_((np.arange(N[0]) + int(centroid[0]) - int(N[0]/2)) % N[0] , (np.arange(N[1]) + int(centroid[1]) - int(N[1]/2)) % N[1])]\n",
        "  return centered\n",
        "\n",
        "#function that returns the mask of a cell. It takes the cell label in the mask, and the movie\n",
        "#as implicit parameters determined by the track information (as used later).\n",
        "def get_cell(iframe):\n",
        "  mask=get_mask(iframe)  \n",
        "  #erase all objects with different label as cell\n",
        "  mask[mask != label[iframe] ] =0\n",
        "  #set cell positions as 1\n",
        "  mask[mask > 0 ] = 1\n",
        "\n",
        "  return mask\n",
        "\n",
        "rotation_matrix = lambda angle: np.asarray([[np.cos(angle) , -np.sin(angle)],[np.sin(angle), np.cos(angle)]] )\n",
        "\n",
        "\n",
        "def skew_from_hist(hist):\n",
        "  value = np.asarray(range(len(hist)))\n",
        "  mean = np.sum(hist*value)/np.sum(hist)\n",
        "  m2 = np.sum(hist*(value-mean)**2)/np.sum(hist)\n",
        "  m3 = np.sum(hist*(value-mean)**3)/np.sum(hist)\n",
        "  return  m3/m2**(3/2) \n"
      ],
      "execution_count": 19,
      "outputs": []
    },
    {
      "cell_type": "markdown",
      "metadata": {
        "id": "DTGWU7iV7EMz"
      },
      "source": [
        "###Add shape metrics to tracks and save in GCS"
      ]
    },
    {
      "cell_type": "code",
      "metadata": {
        "id": "2QpS7WKY4NDr"
      },
      "source": [
        "for blob in bucket.list_blobs(prefix=analysis_folder):\n",
        "  if '_tracksqc.pkl' in blob.name:\n",
        "    output_path = bucketName + '/' + os.path.dirname(blob.name)\n",
        "    experiment = os.path.basename(blob.name).replace('_tracksqc.pkl', '')\n",
        "\n",
        "    #Read data \n",
        "    #read labeled masks and tracks\n",
        "    !gsutil cp gs://{output_path}/{experiment}_labeledmasks.zip ./  \n",
        "\n",
        "    #unzip labeld masks\n",
        "    !unzip {experiment}_labeledmasks.zip\n",
        "\n",
        "    masks_folder = experiment+'_labeledmasks'\n",
        "\n",
        "    #read pickled tracks\n",
        "    !gsutil cp gs://{output_path}/{experiment}_tracksqc.pkl .\n",
        "    tracks_filename = experiment+ '_tracksqc.pkl'\n",
        "    #unpickle tracks  \n",
        "    with open(tracks_filename, 'rb') as handle:\n",
        "      tracks_noshape = pickle.load(handle, encoding='latin1') \n",
        "\n",
        "    ###Loop to add features to each timepoint of all the tracks\n",
        "    #Add morphological and morphodynamical features to each timepoint (frame) in the tracks\n",
        "\n",
        "    tracks = copy.copy(tracks_noshape)\n",
        "\n",
        "    for itrack in range(len(tracks)):\n",
        "      tracklength = len(tracks[itrack])\n",
        "      movie = tracks[itrack]['movie'].iloc[0]\n",
        "      frame = list(tracks[itrack]['frame'])\n",
        "      label = list(tracks[itrack]['label'])\n",
        "      masks=os.listdir(masks_folder)\n",
        "      #implicit argument to read cells\n",
        "      basename=re.findall(r\"(.+)_s\",masks[0])[0] \n",
        "\n",
        "      #get polarization angle, skew, protrusion and retraction angle,norm area, radii \n",
        "  \n",
        "      median_centroidy = []\n",
        "      median_centroidx = []\n",
        "      protrusion_angles=[]\n",
        "      mean_protrusion_angles=[]\n",
        "      protrusion_norm_radii =[]\n",
        "      protrusion_norm_areas=[]\n",
        "      retraction_angles=[]\n",
        "      mean_retraction_angles=[]\n",
        "      retraction_norm_areas=[]\n",
        "      retraction_norm_radii=[]\n",
        "      mean_retraction_norm_radii=[]\n",
        "      mean_protrusion_norm_radii =[]\n",
        "\n",
        "      cell_angles = []\n",
        "      cell_skews = []\n",
        "\n",
        "      #select scikit-image shape metrics\n",
        "      shape_metrics = ['area','eccentricity','orientation','perimeter','solidity','major_axis_length','minor_axis_length','centroid']\n",
        "      track_shape_metrics = pd.DataFrame()\n",
        "\n",
        "      for iframe in range(tracklength):\n",
        "        #get scikit defined cell metrics\n",
        "        cell = get_cell(iframe)    \n",
        "        cell_shape_metrics = measure.regionprops_table(cell, properties = shape_metrics)        \n",
        "        cell_shape_metrics=pd.DataFrame(cell_shape_metrics)\n",
        "        #append cell shape metrics to track shape metrics\n",
        "        track_shape_metrics = track_shape_metrics.append(cell_shape_metrics, ignore_index=True)\n",
        "        #get median calculated centroid\n",
        "        celly,cellx = np.where(cell)\n",
        "        median_centroidy.append( np.median(celly) ) \n",
        "        median_centroidx.append( np.median(cellx) )\n",
        "\n",
        "      for iframe in range(tracklength-1):\n",
        "\n",
        "        #GET CELL POLARIZATION ANGLE \n",
        "\n",
        "        cell_centered = get_centered_cell(iframe)\n",
        "        props = regionprops(cell_centered)\n",
        "        #major axis angle with respect to y (0 axis : rows) counter-clockwise -pi/2 , pi/2  \n",
        "        angle_y = props[0].orientation\n",
        "        #rotate cell so that major axis is aligned with the y axis\n",
        "        cell_y = rotate(cell_centered,-angle_y*180/np.pi,order=0, preserve_range=True)\n",
        "        #project cell on the x (1) axis\n",
        "        proj_x = np.sum(cell_y,1)      \n",
        "        #get cell polarization vector in a regular coordinate system\n",
        "        #skew sign corresponds to the tail of the distribution, cell polarization is  \n",
        "        #defined here as -skew. Because image y-axis is inverted, in a regular coordinate\n",
        "        #system, cell polarization vector is defined as -(-skew) = skew:\n",
        "        celly_polarization = [0 , skew(proj_x) ]      \n",
        "        #rotate back\n",
        "        polarization = np.dot( rotation_matrix(angle_y) , celly_polarization )\n",
        "        cell_angles.append( np.arctan2(polarization[1],polarization[0]) )\n",
        "        cell_skews.append(skew(proj_x))\n",
        "\n",
        "        #PROTRUSION AND RETRACTION VECTORS : angle, norm_areas, radii (calculated with medians)\n",
        "        difference  = get_centered_cell(iframe+1) - get_centered_cell(iframe)\n",
        "        #get centroids of cell(iframe), protrusion and retraction\n",
        "        y,x =np.where(get_centered_cell(iframe))\n",
        "        centroidy, centroidx = np.median(y), np.median(x)\n",
        "        yp,xp = np.where(difference==1)\n",
        "        protrusion_y, protrusion_x  = np.median(yp) , np.median(xp)\n",
        "        yr,xr = np.where(difference==-1)\n",
        "        retraction_y, retraction_x  = np.median(yr) , np.median(xr) \n",
        "        #get protr and retr angle in a regular coordinate system: [ximage , - yimage]\n",
        "        #and norm_areas\n",
        "        protrusion_angles.append( np.arctan2( -(protrusion_y - centroidy) , protrusion_x - centroidx) )\n",
        "        protrusion_norm_areas.append(len(yp)/ len(y))\n",
        "        #effective radius (area/pi)^0.5\n",
        "        protrusion_norm_radii.append( ((protrusion_x-centroidx)**2+(protrusion_y-centroidy)**2)**0.5/(len(y)/np.pi)**0.5 )\n",
        "        retraction_angles.append(np.arctan2( -(retraction_y - centroidy), retraction_x - centroidx)  )\n",
        "        retraction_norm_areas.append( len(yr)/len(y) )\n",
        "        retraction_norm_radii.append( ((retraction_x-centroidx)**2+(retraction_y-centroidy)**2)**0.5/(len(y)/np.pi)**0.5 )\n",
        "\n",
        "\n",
        "        #PROTRUSION AND RETRACTION angles, radii, calculated with means\n",
        "        #get centroids of cell(iframe), protrusion and retraction\n",
        "        mean_centroidy, mean_centroidx = np.mean(y), np.mean(x)\n",
        "        mean_protrusion_y, mean_protrusion_x  = np.mean(yp) , np.mean(xp)\n",
        "        mean_retraction_y, mean_retraction_x  = np.mean(yr) , np.mean(xr) \n",
        "        #get protr and retr angle in a regular coordinate system: [ximage , - yimage]\n",
        "        #and norm_areas\n",
        "        mean_protrusion_angles.append(np.arctan2( -(mean_protrusion_y - mean_centroidy), mean_protrusion_x - mean_centroidx) )\n",
        "        mean_retraction_angles.append(np.arctan2( -(mean_retraction_y - mean_centroidy), mean_retraction_x - mean_centroidx) )\n",
        "        mean_protrusion_norm_radii.append( ((mean_protrusion_x-mean_centroidx)**2+(mean_protrusion_y-mean_centroidy)**2)**0.5/(len(y)/np.pi)**0.5 )\n",
        "        mean_retraction_norm_radii.append( ((mean_retraction_x-mean_centroidx)**2+(mean_retraction_y-mean_centroidy)**2)**0.5/(len(y)/np.pi)**0.5 )\n",
        "\n",
        "\n",
        "      med_centroids = pd.DataFrame({'median_centroidx':median_centroidx, 'median_centroidy':median_centroidy})\n",
        "  \n",
        "      shape_features= pd.DataFrame({'polarity_angle':cell_angles, 'skew':cell_skews, \n",
        "                                'protr_angle':protrusion_angles, 'mean_protr_angle':mean_protrusion_angles, 'protr_norm_area':protrusion_norm_areas, \n",
        "                            'retr_angle': retraction_angles, 'mean_retr_angle': mean_retraction_angles, 'retr_norm_area': retraction_norm_areas,\n",
        "                            'protr_norm_radii':protrusion_norm_radii, 'mean_protr_norm_radii':mean_protrusion_norm_radii,\n",
        "                            'retr_norm_radii':retraction_norm_radii, 'mean_retr_norm_radii':mean_retraction_norm_radii, })\n",
        "  \n",
        "      tracks[itrack] = pd.concat([tracks[itrack].reset_index(drop=True), track_shape_metrics.reset_index(drop=True)], axis = 1 )\n",
        "\n",
        "      tracks[itrack] = pd.concat([tracks[itrack].reset_index(drop=True), med_centroids.reset_index(drop=True)], axis = 1 )\n",
        "\n",
        "      tracks[itrack] = pd.concat([tracks[itrack].reset_index(drop=True), shape_features.reset_index(drop=True)], axis = 1 )\n",
        "\n",
        "    ###Save updated tracks\n",
        "    #save tracks from each region separately\n",
        "\n",
        "    with open(experiment+'_tracks_shape.pkl', 'wb') as handle:\n",
        "        pickle.dump(tracks, handle, protocol=2)\n",
        "\n",
        "    #transfer data to GCP bucket\n",
        "    !gsutil cp {experiment}_tracks_shape.pkl gs://{output_path}\n",
        "\n",
        "    #remove labeled masks folder in local folder\n",
        "    !rm -r {masks_folder}\n"
      ],
      "execution_count": null,
      "outputs": []
    },
    {
      "cell_type": "markdown",
      "metadata": {
        "id": "Xu8G9s227br4"
      },
      "source": [
        "###Add additional shape metrics to tracks with shape metrics and save in GCS"
      ]
    },
    {
      "cell_type": "code",
      "metadata": {
        "id": "YCpuQqhN7br5"
      },
      "source": [
        "for blob in bucket.list_blobs(prefix=analysis_folder):\n",
        "  if '_tracks_shape.pkl' in blob.name:\n",
        "    output_path = bucketName + '/' + os.path.dirname(blob.name)\n",
        "    experiment = os.path.basename(blob.name).replace('_tracks_shape.pkl', '')\n",
        "\n",
        "    #Read data \n",
        "    #read labeled masks and tracks\n",
        "    !gsutil cp gs://{output_path}/{experiment}_labeledmasks.zip ./  \n",
        "\n",
        "    #unzip labeld masks\n",
        "    !unzip {experiment}_labeledmasks.zip\n",
        "\n",
        "    masks_folder = experiment+'_labeledmasks'\n",
        "\n",
        "    #read pickled tracks\n",
        "    !gsutil cp gs://{output_path}/{experiment}_tracks_shape.pkl .\n",
        "\n",
        "    tracks_filename = experiment+ '_tracks_shape.pkl'\n",
        "\n",
        "    #unpickle tracks  \n",
        "    with open(tracks_filename, 'rb') as handle:\n",
        "      tracks_noshape = pickle.load(handle, encoding='latin1')      \n",
        "    \n",
        "    ###Loop to add features to each timepoint of all the tracks\n",
        "    #Add morphological and morphodynamical features to each timepoint (frame) in the tracks\n",
        "\n",
        "    tracks = copy.copy(tracks_noshape)\n",
        "\n",
        "    for itrack in range(len(tracks)):\n",
        "      tracklength = len(tracks[itrack])\n",
        "      movie = tracks[itrack]['movie'].iloc[0]\n",
        "      frame = list(tracks[itrack]['frame'])\n",
        "      label = list(tracks[itrack]['label'])\n",
        "      masks=os.listdir(masks_folder)\n",
        "      #implicit argument to read cells\n",
        "      basename=re.findall(r\"(.+)_s\",masks[0])[0] \n",
        "\n",
        "      #get polarization angle, skew, protrusion and retraction angle,norm area, radii \n",
        "  \n",
        "      median_centroidy = []\n",
        "      median_centroidx = []\n",
        "      protrusion_angles=[]\n",
        "      mean_protrusion_angles=[]\n",
        "      protrusion_norm_radii =[]\n",
        "      protrusion_norm_areas=[]\n",
        "      retraction_angles=[]\n",
        "      mean_retraction_angles=[]\n",
        "      retraction_norm_areas=[]\n",
        "      retraction_norm_radii=[]\n",
        "      mean_retraction_norm_radii=[]\n",
        "      mean_protrusion_norm_radii =[]\n",
        "\n",
        "      cell_angles = []\n",
        "      cell_skews = []\n",
        "\n",
        "      #select scikit-image shape metrics\n",
        "      shape_metrics = ['area','eccentricity','orientation','perimeter','solidity','major_axis_length','minor_axis_length','centroid']\n",
        "      track_shape_metrics = pd.DataFrame()\n",
        "\n",
        "      #get scikit-image defined cell metrics, median centroids, \n",
        "\n",
        "      # for iframe in range(tracklength):\n",
        "      #   cell = get_cell(iframe)    \n",
        "      #   cell_shape_metrics = measure.regionprops_table(cell, properties = shape_metrics)        \n",
        "      #   cell_shape_metrics=pd.DataFrame(cell_shape_metrics)\n",
        "      #   #append cell shape metrics to track shape metrics\n",
        "      #   track_shape_metrics = track_shape_metrics.append(cell_shape_metrics, ignore_index=True)\n",
        "      #   #get median calculated centroid\n",
        "      #   celly,cellx = np.where(cell)\n",
        "      #   median_centroidy.append( np.median(celly) ) \n",
        "      #   median_centroidx.append( np.median(cellx) )\n",
        "\n",
        "      for iframe in range(tracklength-1):\n",
        "\n",
        "        #GET CELL POLARIZATION ANGLE \n",
        "\n",
        "        cell_centered = get_centered_cell(iframe)\n",
        "        props = regionprops(cell_centered)\n",
        "        #major axis angle with respect to y (0 axis : rows) counter-clockwise -pi/2 , pi/2  \n",
        "        angle_y = props[0].orientation\n",
        "        #rotate cell so that major axis is aligned with the y axis\n",
        "        cell_y = rotate(cell_centered,-angle_y*180/np.pi,order=0, preserve_range=True)\n",
        "        #project cell on the x (1) axis\n",
        "        proj_x = np.sum(cell_y,1)      \n",
        "        #get cell polarization vector in a regular coordinate system\n",
        "        #skew sign corresponds to the tail of the distribution, cell polarization is  \n",
        "        #defined here as -skew. Because image y-axis is inverted, in a regular coordinate\n",
        "        #system, cell polarization vector is defined as -(-skew) = skew:\n",
        "        skew_cell = skew_from_hist(proj_x)\n",
        "        celly_polarization = [0 , skew_cell ]      \n",
        "        #rotate back\n",
        "        polarization = np.dot( rotation_matrix(angle_y) , celly_polarization )\n",
        "        cell_angles.append( np.arctan2(polarization[1],polarization[0]) )\n",
        "        cell_skews.append(abs(skew_cell)) \n",
        "\n",
        "        # #PROTRUSION AND RETRACTION VECTORS : angle, norm_areas, radii (calculated with medians)\n",
        "        # difference  = get_centered_cell(iframe+1) - get_centered_cell(iframe)\n",
        "        # #get centroids of cell(iframe), protrusion and retraction\n",
        "        # y,x =np.where(get_centered_cell(iframe))\n",
        "        # centroidy, centroidx = np.median(y), np.median(x)\n",
        "        # yp,xp = np.where(difference==1)\n",
        "        # protrusion_y, protrusion_x  = np.median(yp) , np.median(xp)\n",
        "        # yr,xr = np.where(difference==-1)\n",
        "        # retraction_y, retraction_x  = np.median(yr) , np.median(xr) \n",
        "        # #get protr and retr angle in a regular coordinate system: [ximage , - yimage]\n",
        "        # #and norm_areas\n",
        "        # protrusion_angles.append( np.arctan2( -(protrusion_y - centroidy) , protrusion_x - centroidx) )\n",
        "        # protrusion_norm_areas.append(len(yp)/ len(y))\n",
        "        # #effective radius (area/pi)^0.5\n",
        "        # protrusion_norm_radii.append( ((protrusion_x-centroidx)**2+(protrusion_y-centroidy)**2)**0.5/(len(y)/np.pi)**0.5 )\n",
        "        # retraction_angles.append(np.arctan2( -(retraction_y - centroidy), retraction_x - centroidx)  )\n",
        "        # retraction_norm_areas.append( len(yr)/len(y) )\n",
        "        # retraction_norm_radii.append( ((retraction_x-centroidx)**2+(retraction_y-centroidy)**2)**0.5/(len(y)/np.pi)**0.5 )\n",
        "\n",
        "\n",
        "        # #PROTRUSION AND RETRACTION angles, radii, calculated with means\n",
        "        # #get centroids of cell(iframe), protrusion and retraction\n",
        "        # mean_centroidy, mean_centroidx = np.mean(y), np.mean(x)\n",
        "        # mean_protrusion_y, mean_protrusion_x  = np.mean(yp) , np.mean(xp)\n",
        "        # mean_retraction_y, mean_retraction_x  = np.mean(yr) , np.mean(xr) \n",
        "        # #get protr and retr angle in a regular coordinate system: [ximage , - yimage]\n",
        "        # #and norm_areas\n",
        "        # mean_protrusion_angles.append(np.arctan2( -(mean_protrusion_y - mean_centroidy), mean_protrusion_x - mean_centroidx) )\n",
        "        # mean_retraction_angles.append(np.arctan2( -(mean_retraction_y - mean_centroidy), mean_retraction_x - mean_centroidx) )\n",
        "        # mean_protrusion_norm_radii.append( ((mean_protrusion_x-mean_centroidx)**2+(mean_protrusion_y-mean_centroidy)**2)**0.5/(len(y)/np.pi)**0.5 )\n",
        "        # mean_retraction_norm_radii.append( ((mean_retraction_x-mean_centroidx)**2+(mean_retraction_y-mean_centroidy)**2)**0.5/(len(y)/np.pi)**0.5 )\n",
        "\n",
        "\n",
        "      #med_centroids = pd.DataFrame({'median_centroidx':median_centroidx, 'median_centroidy':median_centroidy})\n",
        "  \n",
        "      # shape_features= pd.DataFrame({'polarity_angle':cell_angles, 'skew':cell_skews, \n",
        "      #                           'protr_angle':protrusion_angles, 'mean_protr_angle':mean_protrusion_angles, 'protr_norm_area':protrusion_norm_areas, \n",
        "      #                       'retr_angle': retraction_angles, 'mean_retr_angle': mean_retraction_angles, 'retr_norm_area': retraction_norm_areas,\n",
        "      #                       'protr_norm_radii':protrusion_norm_radii, 'mean_protr_norm_radii':mean_protrusion_norm_radii,\n",
        "      #                       'retr_norm_radii':retraction_norm_radii, 'mean_retr_norm_radii':mean_retraction_norm_radii, })\n",
        "      \n",
        "      \n",
        "  \n",
        "      #tracks[itrack] = pd.concat([tracks[itrack].reset_index(drop=True), track_shape_metrics.reset_index(drop=True)], axis = 1 )\n",
        "      #tracks[itrack] = pd.concat([tracks[itrack].reset_index(drop=True), med_centroids.reset_index(drop=True)], axis = 1 )\n",
        "      \n",
        "      #df with new features to add\n",
        "      shape_features= pd.DataFrame({'polarity_angle':cell_angles, 'abs-skew':cell_skews })\n",
        "      #remove old features\n",
        "      tracks[itrack] = tracks[itrack].drop(columns =['polarity_angle', 'skew'] )      \n",
        "      #add new features\n",
        "      tracks[itrack] = pd.concat([tracks[itrack].reset_index(drop=True), shape_features.reset_index(drop=True)], axis = 1 )\n",
        "\n",
        "    ###Save updated tracks\n",
        "    #save tracks from each region separately\n",
        "\n",
        "    with open(experiment+'_tracks_shape.pkl', 'wb') as handle:\n",
        "        pickle.dump(tracks, handle, protocol=2)\n",
        "\n",
        "    #transfer data to GCP bucket\n",
        "    !gsutil cp {experiment}_tracks_shape.pkl gs://{output_path}\n",
        "\n",
        "    #remove labeled masks folder in local folder\n",
        "    !rm -r {masks_folder}\n"
      ],
      "execution_count": null,
      "outputs": []
    },
    {
      "cell_type": "code",
      "metadata": {
        "id": "5EvwZ64GR5v3"
      },
      "source": [
        "tracks[0]"
      ],
      "execution_count": null,
      "outputs": []
    },
    {
      "cell_type": "markdown",
      "metadata": {
        "id": "i--x8-NSBNvO"
      },
      "source": [
        "# An instance of the feature addition step to verify the code"
      ]
    },
    {
      "cell_type": "code",
      "metadata": {
        "colab": {
          "base_uri": "https://localhost:8080/"
        },
        "id": "ZaRjLAAZz0QM",
        "outputId": "08c8392c-5a23-4c5b-cc07-dcf54a1f9b45"
      },
      "source": [
        "print(np.shape(tracks))"
      ],
      "execution_count": null,
      "outputs": [
        {
          "output_type": "stream",
          "text": [
            "(36,)\n"
          ],
          "name": "stdout"
        },
        {
          "output_type": "stream",
          "text": [
            "/usr/local/lib/python3.7/dist-packages/numpy/core/_asarray.py:83: VisibleDeprecationWarning: Creating an ndarray from ragged nested sequences (which is a list-or-tuple of lists-or-tuples-or ndarrays with different lengths or shapes) is deprecated. If you meant to do this, you must specify 'dtype=object' when creating the ndarray\n",
            "  return array(a, dtype, copy=False, order=order)\n"
          ],
          "name": "stderr"
        }
      ]
    },
    {
      "cell_type": "code",
      "metadata": {
        "colab": {
          "base_uri": "https://localhost:8080/",
          "height": 495
        },
        "id": "erJO2CgBEpAn",
        "outputId": "2ae8f0b2-68c3-427b-e83e-172611471704"
      },
      "source": [
        "tracks[1]"
      ],
      "execution_count": null,
      "outputs": [
        {
          "output_type": "execute_result",
          "data": {
            "text/html": [
              "<div>\n",
              "<style scoped>\n",
              "    .dataframe tbody tr th:only-of-type {\n",
              "        vertical-align: middle;\n",
              "    }\n",
              "\n",
              "    .dataframe tbody tr th {\n",
              "        vertical-align: top;\n",
              "    }\n",
              "\n",
              "    .dataframe thead th {\n",
              "        text-align: right;\n",
              "    }\n",
              "</style>\n",
              "<table border=\"1\" class=\"dataframe\">\n",
              "  <thead>\n",
              "    <tr style=\"text-align: right;\">\n",
              "      <th></th>\n",
              "      <th>movie</th>\n",
              "      <th>frame</th>\n",
              "      <th>label</th>\n",
              "      <th>area</th>\n",
              "      <th>approximate-medoidx</th>\n",
              "      <th>approximate-medoidy</th>\n",
              "      <th>gel-region</th>\n",
              "      <th>area</th>\n",
              "      <th>eccentricity</th>\n",
              "      <th>orientation</th>\n",
              "      <th>perimeter</th>\n",
              "      <th>solidity</th>\n",
              "      <th>major_axis_length</th>\n",
              "      <th>minor_axis_length</th>\n",
              "      <th>centroid-0</th>\n",
              "      <th>centroid-1</th>\n",
              "      <th>median_centroidx</th>\n",
              "      <th>median_centroidy</th>\n",
              "      <th>polarity_angle</th>\n",
              "      <th>skew</th>\n",
              "      <th>protr_angle</th>\n",
              "      <th>mean_protr_angle</th>\n",
              "      <th>protr_norm_area</th>\n",
              "      <th>retr_angle</th>\n",
              "      <th>mean_retr_angle</th>\n",
              "      <th>retr_norm_area</th>\n",
              "      <th>protr_norm_radii</th>\n",
              "      <th>mean_protr_norm_radii</th>\n",
              "      <th>retr_norm_radii</th>\n",
              "      <th>mean_retr_norm_radii</th>\n",
              "    </tr>\n",
              "  </thead>\n",
              "  <tbody>\n",
              "    <tr>\n",
              "      <th>0</th>\n",
              "      <td>2.0</td>\n",
              "      <td>21.0</td>\n",
              "      <td>1.0</td>\n",
              "      <td>636.0</td>\n",
              "      <td>180.0</td>\n",
              "      <td>125.0</td>\n",
              "      <td>stiff</td>\n",
              "      <td>636</td>\n",
              "      <td>0.993952</td>\n",
              "      <td>0.684611</td>\n",
              "      <td>203.521861</td>\n",
              "      <td>0.574526</td>\n",
              "      <td>106.339742</td>\n",
              "      <td>11.677605</td>\n",
              "      <td>122</td>\n",
              "      <td>176</td>\n",
              "      <td>180.0</td>\n",
              "      <td>125.0</td>\n",
              "      <td>2.255407</td>\n",
              "      <td>1.367263</td>\n",
              "      <td>2.498092</td>\n",
              "      <td>-2.678929</td>\n",
              "      <td>0.551887</td>\n",
              "      <td>-0.358771</td>\n",
              "      <td>1.681422</td>\n",
              "      <td>0.243711</td>\n",
              "      <td>0.351412</td>\n",
              "      <td>0.028344</td>\n",
              "      <td>0.600493</td>\n",
              "      <td>0.039432</td>\n",
              "    </tr>\n",
              "    <tr>\n",
              "      <th>1</th>\n",
              "      <td>2.0</td>\n",
              "      <td>22.0</td>\n",
              "      <td>1.0</td>\n",
              "      <td>832.0</td>\n",
              "      <td>184.0</td>\n",
              "      <td>132.0</td>\n",
              "      <td>stiff</td>\n",
              "      <td>832</td>\n",
              "      <td>0.994889</td>\n",
              "      <td>0.648036</td>\n",
              "      <td>242.877200</td>\n",
              "      <td>0.616753</td>\n",
              "      <td>120.273676</td>\n",
              "      <td>12.144488</td>\n",
              "      <td>130</td>\n",
              "      <td>181</td>\n",
              "      <td>184.0</td>\n",
              "      <td>132.0</td>\n",
              "      <td>2.218832</td>\n",
              "      <td>0.929579</td>\n",
              "      <td>-0.891383</td>\n",
              "      <td>2.753433</td>\n",
              "      <td>0.492788</td>\n",
              "      <td>-0.000000</td>\n",
              "      <td>1.980874</td>\n",
              "      <td>0.239183</td>\n",
              "      <td>1.026857</td>\n",
              "      <td>0.078531</td>\n",
              "      <td>0.184346</td>\n",
              "      <td>0.105717</td>\n",
              "    </tr>\n",
              "    <tr>\n",
              "      <th>2</th>\n",
              "      <td>2.0</td>\n",
              "      <td>23.0</td>\n",
              "      <td>1.0</td>\n",
              "      <td>1043.0</td>\n",
              "      <td>193.0</td>\n",
              "      <td>146.0</td>\n",
              "      <td>stiff</td>\n",
              "      <td>1043</td>\n",
              "      <td>0.993891</td>\n",
              "      <td>0.607773</td>\n",
              "      <td>289.818326</td>\n",
              "      <td>0.566540</td>\n",
              "      <td>136.972463</td>\n",
              "      <td>15.116982</td>\n",
              "      <td>142</td>\n",
              "      <td>189</td>\n",
              "      <td>193.0</td>\n",
              "      <td>146.0</td>\n",
              "      <td>2.178569</td>\n",
              "      <td>0.822744</td>\n",
              "      <td>0.165149</td>\n",
              "      <td>-1.029428</td>\n",
              "      <td>0.200384</td>\n",
              "      <td>-1.076855</td>\n",
              "      <td>-1.433640</td>\n",
              "      <td>0.452541</td>\n",
              "      <td>0.333836</td>\n",
              "      <td>0.468311</td>\n",
              "      <td>0.810328</td>\n",
              "      <td>0.154778</td>\n",
              "    </tr>\n",
              "    <tr>\n",
              "      <th>3</th>\n",
              "      <td>2.0</td>\n",
              "      <td>24.0</td>\n",
              "      <td>3.0</td>\n",
              "      <td>780.0</td>\n",
              "      <td>182.0</td>\n",
              "      <td>130.0</td>\n",
              "      <td>stiff</td>\n",
              "      <td>780</td>\n",
              "      <td>0.996270</td>\n",
              "      <td>0.618050</td>\n",
              "      <td>286.640656</td>\n",
              "      <td>0.480000</td>\n",
              "      <td>142.489931</td>\n",
              "      <td>12.295902</td>\n",
              "      <td>129</td>\n",
              "      <td>179</td>\n",
              "      <td>182.0</td>\n",
              "      <td>130.0</td>\n",
              "      <td>2.188847</td>\n",
              "      <td>0.704090</td>\n",
              "      <td>-1.570796</td>\n",
              "      <td>-1.344533</td>\n",
              "      <td>0.235897</td>\n",
              "      <td>1.405648</td>\n",
              "      <td>-1.112424</td>\n",
              "      <td>0.274359</td>\n",
              "      <td>0.317320</td>\n",
              "      <td>0.273891</td>\n",
              "      <td>0.386037</td>\n",
              "      <td>0.363119</td>\n",
              "    </tr>\n",
              "    <tr>\n",
              "      <th>4</th>\n",
              "      <td>2.0</td>\n",
              "      <td>25.0</td>\n",
              "      <td>1.0</td>\n",
              "      <td>750.0</td>\n",
              "      <td>178.0</td>\n",
              "      <td>125.0</td>\n",
              "      <td>stiff</td>\n",
              "      <td>750</td>\n",
              "      <td>0.995302</td>\n",
              "      <td>0.640649</td>\n",
              "      <td>250.599026</td>\n",
              "      <td>0.538406</td>\n",
              "      <td>119.851625</td>\n",
              "      <td>11.603829</td>\n",
              "      <td>123</td>\n",
              "      <td>175</td>\n",
              "      <td>178.0</td>\n",
              "      <td>125.0</td>\n",
              "      <td>2.211446</td>\n",
              "      <td>0.959306</td>\n",
              "      <td>2.219792</td>\n",
              "      <td>1.993749</td>\n",
              "      <td>0.301333</td>\n",
              "      <td>1.504228</td>\n",
              "      <td>2.194510</td>\n",
              "      <td>0.232000</td>\n",
              "      <td>1.177938</td>\n",
              "      <td>0.325102</td>\n",
              "      <td>0.486484</td>\n",
              "      <td>0.510785</td>\n",
              "    </tr>\n",
              "    <tr>\n",
              "      <th>5</th>\n",
              "      <td>2.0</td>\n",
              "      <td>26.0</td>\n",
              "      <td>1.0</td>\n",
              "      <td>802.0</td>\n",
              "      <td>181.0</td>\n",
              "      <td>129.0</td>\n",
              "      <td>stiff</td>\n",
              "      <td>802</td>\n",
              "      <td>0.996098</td>\n",
              "      <td>0.572354</td>\n",
              "      <td>254.320851</td>\n",
              "      <td>0.583273</td>\n",
              "      <td>123.588087</td>\n",
              "      <td>10.907660</td>\n",
              "      <td>129</td>\n",
              "      <td>179</td>\n",
              "      <td>181.0</td>\n",
              "      <td>129.0</td>\n",
              "      <td>2.143150</td>\n",
              "      <td>0.696800</td>\n",
              "      <td>1.945130</td>\n",
              "      <td>2.172143</td>\n",
              "      <td>0.326683</td>\n",
              "      <td>2.265535</td>\n",
              "      <td>2.185054</td>\n",
              "      <td>0.216958</td>\n",
              "      <td>0.941417</td>\n",
              "      <td>0.641514</td>\n",
              "      <td>1.955297</td>\n",
              "      <td>0.885562</td>\n",
              "    </tr>\n",
              "    <tr>\n",
              "      <th>6</th>\n",
              "      <td>2.0</td>\n",
              "      <td>27.0</td>\n",
              "      <td>2.0</td>\n",
              "      <td>890.0</td>\n",
              "      <td>183.0</td>\n",
              "      <td>133.0</td>\n",
              "      <td>stiff</td>\n",
              "      <td>890</td>\n",
              "      <td>0.995956</td>\n",
              "      <td>0.597726</td>\n",
              "      <td>276.534055</td>\n",
              "      <td>0.521077</td>\n",
              "      <td>136.404203</td>\n",
              "      <td>12.255405</td>\n",
              "      <td>132</td>\n",
              "      <td>180</td>\n",
              "      <td>183.5</td>\n",
              "      <td>133.0</td>\n",
              "      <td>2.168522</td>\n",
              "      <td>0.915663</td>\n",
              "      <td>-2.875341</td>\n",
              "      <td>-1.579242</td>\n",
              "      <td>0.188764</td>\n",
              "      <td>-0.714091</td>\n",
              "      <td>-0.312568</td>\n",
              "      <td>0.305618</td>\n",
              "      <td>0.338705</td>\n",
              "      <td>0.240228</td>\n",
              "      <td>0.589655</td>\n",
              "      <td>0.126843</td>\n",
              "    </tr>\n",
              "    <tr>\n",
              "      <th>7</th>\n",
              "      <td>2.0</td>\n",
              "      <td>28.0</td>\n",
              "      <td>1.0</td>\n",
              "      <td>786.0</td>\n",
              "      <td>182.0</td>\n",
              "      <td>131.0</td>\n",
              "      <td>stiff</td>\n",
              "      <td>786</td>\n",
              "      <td>0.997485</td>\n",
              "      <td>0.595081</td>\n",
              "      <td>288.575685</td>\n",
              "      <td>0.520530</td>\n",
              "      <td>142.260714</td>\n",
              "      <td>10.083619</td>\n",
              "      <td>130</td>\n",
              "      <td>180</td>\n",
              "      <td>182.0</td>\n",
              "      <td>131.0</td>\n",
              "      <td>2.165878</td>\n",
              "      <td>0.806240</td>\n",
              "      <td>2.073640</td>\n",
              "      <td>1.971347</td>\n",
              "      <td>0.246819</td>\n",
              "      <td>2.272280</td>\n",
              "      <td>2.228986</td>\n",
              "      <td>0.254453</td>\n",
              "      <td>1.443054</td>\n",
              "      <td>0.696905</td>\n",
              "      <td>2.400122</td>\n",
              "      <td>0.795425</td>\n",
              "    </tr>\n",
              "    <tr>\n",
              "      <th>8</th>\n",
              "      <td>2.0</td>\n",
              "      <td>29.0</td>\n",
              "      <td>1.0</td>\n",
              "      <td>780.0</td>\n",
              "      <td>184.0</td>\n",
              "      <td>130.0</td>\n",
              "      <td>stiff</td>\n",
              "      <td>780</td>\n",
              "      <td>0.997004</td>\n",
              "      <td>0.604145</td>\n",
              "      <td>300.747258</td>\n",
              "      <td>0.430701</td>\n",
              "      <td>141.883492</td>\n",
              "      <td>10.974486</td>\n",
              "      <td>132</td>\n",
              "      <td>182</td>\n",
              "      <td>184.0</td>\n",
              "      <td>130.0</td>\n",
              "      <td>2.174941</td>\n",
              "      <td>0.776468</td>\n",
              "      <td>-1.951303</td>\n",
              "      <td>-0.905497</td>\n",
              "      <td>0.183333</td>\n",
              "      <td>-0.197396</td>\n",
              "      <td>-0.855289</td>\n",
              "      <td>0.170513</td>\n",
              "      <td>0.341764</td>\n",
              "      <td>0.272973</td>\n",
              "      <td>0.323604</td>\n",
              "      <td>0.502112</td>\n",
              "    </tr>\n",
              "    <tr>\n",
              "      <th>9</th>\n",
              "      <td>2.0</td>\n",
              "      <td>30.0</td>\n",
              "      <td>1.0</td>\n",
              "      <td>790.0</td>\n",
              "      <td>180.0</td>\n",
              "      <td>129.0</td>\n",
              "      <td>stiff</td>\n",
              "      <td>790</td>\n",
              "      <td>0.998156</td>\n",
              "      <td>0.602836</td>\n",
              "      <td>305.161472</td>\n",
              "      <td>0.465253</td>\n",
              "      <td>154.763214</td>\n",
              "      <td>9.394283</td>\n",
              "      <td>130</td>\n",
              "      <td>180</td>\n",
              "      <td>180.0</td>\n",
              "      <td>129.0</td>\n",
              "      <td>2.173632</td>\n",
              "      <td>0.680596</td>\n",
              "      <td>2.166581</td>\n",
              "      <td>-1.274931</td>\n",
              "      <td>0.445570</td>\n",
              "      <td>1.570796</td>\n",
              "      <td>-0.694877</td>\n",
              "      <td>0.160759</td>\n",
              "      <td>2.247533</td>\n",
              "      <td>0.182725</td>\n",
              "      <td>0.504489</td>\n",
              "      <td>0.533292</td>\n",
              "    </tr>\n",
              "    <tr>\n",
              "      <th>10</th>\n",
              "      <td>2.0</td>\n",
              "      <td>31.0</td>\n",
              "      <td>2.0</td>\n",
              "      <td>1015.0</td>\n",
              "      <td>176.0</td>\n",
              "      <td>124.0</td>\n",
              "      <td>stiff</td>\n",
              "      <td>1015</td>\n",
              "      <td>0.998035</td>\n",
              "      <td>0.633062</td>\n",
              "      <td>381.652850</td>\n",
              "      <td>0.390836</td>\n",
              "      <td>188.371026</td>\n",
              "      <td>11.802531</td>\n",
              "      <td>125</td>\n",
              "      <td>177</td>\n",
              "      <td>176.0</td>\n",
              "      <td>124.0</td>\n",
              "      <td>2.203858</td>\n",
              "      <td>0.609081</td>\n",
              "      <td>-0.588003</td>\n",
              "      <td>-0.773395</td>\n",
              "      <td>0.305419</td>\n",
              "      <td>-1.292497</td>\n",
              "      <td>-1.060197</td>\n",
              "      <td>0.328079</td>\n",
              "      <td>0.802368</td>\n",
              "      <td>0.402384</td>\n",
              "      <td>0.405023</td>\n",
              "      <td>0.418872</td>\n",
              "    </tr>\n",
              "    <tr>\n",
              "      <th>11</th>\n",
              "      <td>2.0</td>\n",
              "      <td>32.0</td>\n",
              "      <td>1.0</td>\n",
              "      <td>992.0</td>\n",
              "      <td>171.0</td>\n",
              "      <td>117.0</td>\n",
              "      <td>stiff</td>\n",
              "      <td>992</td>\n",
              "      <td>0.997742</td>\n",
              "      <td>0.634435</td>\n",
              "      <td>360.102597</td>\n",
              "      <td>0.473961</td>\n",
              "      <td>175.077311</td>\n",
              "      <td>11.759068</td>\n",
              "      <td>118</td>\n",
              "      <td>170</td>\n",
              "      <td>171.0</td>\n",
              "      <td>117.0</td>\n",
              "      <td>2.205231</td>\n",
              "      <td>0.470874</td>\n",
              "      <td>2.214297</td>\n",
              "      <td>3.003207</td>\n",
              "      <td>0.160282</td>\n",
              "      <td>-0.729900</td>\n",
              "      <td>-2.859235</td>\n",
              "      <td>0.211694</td>\n",
              "      <td>0.844132</td>\n",
              "      <td>0.051559</td>\n",
              "      <td>0.717374</td>\n",
              "      <td>0.073993</td>\n",
              "    </tr>\n",
              "    <tr>\n",
              "      <th>12</th>\n",
              "      <td>2.0</td>\n",
              "      <td>33.0</td>\n",
              "      <td>2.0</td>\n",
              "      <td>941.0</td>\n",
              "      <td>173.0</td>\n",
              "      <td>118.0</td>\n",
              "      <td>stiff</td>\n",
              "      <td>941</td>\n",
              "      <td>0.997421</td>\n",
              "      <td>0.619597</td>\n",
              "      <td>343.410209</td>\n",
              "      <td>0.425023</td>\n",
              "      <td>173.733733</td>\n",
              "      <td>12.469900</td>\n",
              "      <td>122</td>\n",
              "      <td>173</td>\n",
              "      <td>173.0</td>\n",
              "      <td>118.0</td>\n",
              "      <td>NaN</td>\n",
              "      <td>NaN</td>\n",
              "      <td>NaN</td>\n",
              "      <td>NaN</td>\n",
              "      <td>NaN</td>\n",
              "      <td>NaN</td>\n",
              "      <td>NaN</td>\n",
              "      <td>NaN</td>\n",
              "      <td>NaN</td>\n",
              "      <td>NaN</td>\n",
              "      <td>NaN</td>\n",
              "      <td>NaN</td>\n",
              "    </tr>\n",
              "  </tbody>\n",
              "</table>\n",
              "</div>"
            ],
            "text/plain": [
              "    movie  frame  ...  retr_norm_radii  mean_retr_norm_radii\n",
              "0     2.0   21.0  ...         0.600493              0.039432\n",
              "1     2.0   22.0  ...         0.184346              0.105717\n",
              "2     2.0   23.0  ...         0.810328              0.154778\n",
              "3     2.0   24.0  ...         0.386037              0.363119\n",
              "4     2.0   25.0  ...         0.486484              0.510785\n",
              "5     2.0   26.0  ...         1.955297              0.885562\n",
              "6     2.0   27.0  ...         0.589655              0.126843\n",
              "7     2.0   28.0  ...         2.400122              0.795425\n",
              "8     2.0   29.0  ...         0.323604              0.502112\n",
              "9     2.0   30.0  ...         0.504489              0.533292\n",
              "10    2.0   31.0  ...         0.405023              0.418872\n",
              "11    2.0   32.0  ...         0.717374              0.073993\n",
              "12    2.0   33.0  ...              NaN                   NaN\n",
              "\n",
              "[13 rows x 30 columns]"
            ]
          },
          "metadata": {
            "tags": []
          },
          "execution_count": 15
        }
      ]
    },
    {
      "cell_type": "code",
      "metadata": {
        "colab": {
          "base_uri": "https://localhost:8080/",
          "height": 315
        },
        "id": "LaRG4bQ5cZax",
        "outputId": "7a818586-6950-4829-fd78-bfe9ccbe1179"
      },
      "source": [
        "itrack=0\n",
        "iframe=0\n",
        "movie = tracks[itrack]['movie'][0]\n",
        "frame = list(tracks[itrack]['frame'])\n",
        "label = list(tracks[itrack]['label'])\n",
        "masks=os.listdir(masks_folder)\n",
        "basename=re.findall(r\"(.+)_s\",masks[0])[0] \n",
        "#imshow(get_centered_cell(iframe))\n",
        "difference  = get_centered_cell(iframe+1) - get_centered_cell(iframe)\n",
        "imshow(difference)\n",
        "#print(basename,movie)"
      ],
      "execution_count": null,
      "outputs": [
        {
          "output_type": "execute_result",
          "data": {
            "text/plain": [
              "<matplotlib.image.AxesImage at 0x7f4570067a10>"
            ]
          },
          "metadata": {
            "tags": []
          },
          "execution_count": 17
        },
        {
          "output_type": "display_data",
          "data": {
            "image/png": "[encoded data removed]",
            "text/plain": [
              "<Figure size 432x288 with 2 Axes>"
            ]
          },
          "metadata": {
            "tags": [],
            "needs_background": "light"
          }
        }
      ]
    },
    {
      "cell_type": "code",
      "metadata": {
        "id": "r3iHfeysiKl8"
      },
      "source": [
        "cell_centered = get_centered_cell(iframe)\n",
        "props = regionprops(cell_centered)\n",
        "#major axis angle with respect to y (0 axis : rows) counter-clockwise -pi/2 , pi/2  \n",
        "angle_y = props[0].orientation\n",
        "#rotate cell so that major axis is aligned with the y axis\n",
        "cell_y = rotate(cell_centered,-angle_y*180/np.pi,order=0, preserve_range=True)\n",
        "#project cell on the x (1) axis\n",
        "proj_x = np.sum(cell_y,1)      \n",
        "#get cell polarization vector in a regular coordinate system\n",
        "#skew sign corresponds to the tail of the distribution, cell polarization is  \n",
        "#defined here as -skew. Because image y-axis is inverted, in a regular coordinate\n",
        "#system, cell polarization vector is defined as -(-skew) = skew:\n",
        "celly_polarization = [0 , skew(proj_x) ]      \n",
        "#rotate back\n",
        "polarization = np.dot( rotation_matrix(angle_y) , celly_polarization )\n",
        "cell_angle =  np.arctan2(polarization[1],polarization[0]) \n",
        "cell_skew =skew(proj_x)"
      ],
      "execution_count": null,
      "outputs": []
    },
    {
      "cell_type": "code",
      "metadata": {
        "colab": {
          "base_uri": "https://localhost:8080/",
          "height": 315
        },
        "id": "OwFWjUm8l47h",
        "outputId": "ed6b1b46-bf4f-4995-84ac-099000759bac"
      },
      "source": [
        "imshow(cell_y)"
      ],
      "execution_count": null,
      "outputs": [
        {
          "output_type": "execute_result",
          "data": {
            "text/plain": [
              "<matplotlib.image.AxesImage at 0x7f4567a94ad0>"
            ]
          },
          "metadata": {
            "tags": []
          },
          "execution_count": 19
        },
        {
          "output_type": "display_data",
          "data": {
            "image/png": "[encoded data removed]",
            "text/plain": [
              "<Figure size 432x288 with 1 Axes>"
            ]
          },
          "metadata": {
            "tags": [],
            "needs_background": "light"
          }
        }
      ]
    },
    {
      "cell_type": "code",
      "metadata": {
        "colab": {
          "base_uri": "https://localhost:8080/"
        },
        "id": "pODfuDOBjLR4",
        "outputId": "fbeedc51-f3a8-421f-9c16-c495768f249d"
      },
      "source": [
        "print(angle_y*180/np.pi, cell_skew, cell_angle*180/np.pi )"
      ],
      "execution_count": null,
      "outputs": [
        {
          "output_type": "stream",
          "text": [
            "20.77965667091718 0.9304078082568387 110.77965667091718\n"
          ],
          "name": "stdout"
        }
      ]
    },
    {
      "cell_type": "code",
      "metadata": {
        "colab": {
          "base_uri": "https://localhost:8080/"
        },
        "id": "D9gORNaUiXkN",
        "outputId": "927fa091-96f2-42b7-d189-786c168a4bbc"
      },
      "source": [
        "polarization"
      ],
      "execution_count": null,
      "outputs": [
        {
          "output_type": "execute_result",
          "data": {
            "text/plain": [
              "array([-0.33008545,  0.86988636])"
            ]
          },
          "metadata": {
            "tags": []
          },
          "execution_count": 21
        }
      ]
    },
    {
      "cell_type": "code",
      "metadata": {
        "colab": {
          "base_uri": "https://localhost:8080/",
          "height": 283
        },
        "id": "IOW7z7mauTkl",
        "outputId": "9bd95949-8031-4c74-a1e9-e0c87278ab75"
      },
      "source": [
        "plt.plot(proj_x)"
      ],
      "execution_count": null,
      "outputs": [
        {
          "output_type": "execute_result",
          "data": {
            "text/plain": [
              "[<matplotlib.lines.Line2D at 0x7f4567a05150>]"
            ]
          },
          "metadata": {
            "tags": []
          },
          "execution_count": 22
        },
        {
          "output_type": "display_data",
          "data": {
            "image/png": "[encoded data removed]",
            "text/plain": [
              "<Figure size 432x288 with 1 Axes>"
            ]
          },
          "metadata": {
            "tags": [],
            "needs_background": "light"
          }
        }
      ]
    },
    {
      "cell_type": "code",
      "metadata": {
        "id": "2YTYcjkLtaDi"
      },
      "source": [
        "#PROTRUSION AND RETRACTION VECTORS : angle, norm_areas\n",
        "difference  = get_centered_cell(iframe+1) - get_centered_cell(iframe)\n",
        "#get centroids of cell(iframe), protrusion and retraction\n",
        "y,x =np.where(get_centered_cell(iframe))\n",
        "centroidy, centroidx = np.median(y), np.median(x)\n",
        "yp,xp = np.where(difference==1)\n",
        "protrusion_y, protrusion_x  = np.median(yp) , np.median(xp)\n",
        "yr,xr = np.where(difference==-1)\n",
        "retraction_y, retraction_x  = np.median(yr) , np.median(xr) \n",
        "#get protr and retr angle in a regular coordinate system: [ximage , - yimage]\n",
        "#and norm_areas\n",
        "protrusion_angle=np.arctan2( -(protrusion_y - centroidy) , protrusion_x - centroidx) \n",
        "protrusion_norm_area=len(yp)/ len(y)\n",
        "retraction_angle=np.arctan2( -(retraction_y - centroidy), retraction_x - centroidx)  \n",
        "retraction_norm_area= len(yr)/len(y) \n"
      ],
      "execution_count": null,
      "outputs": []
    },
    {
      "cell_type": "code",
      "metadata": {
        "id": "SZRTUC_tlZsW",
        "colab": {
          "base_uri": "https://localhost:8080/",
          "height": 315
        },
        "outputId": "e78875a0-3673-4523-895f-c379e28f8678"
      },
      "source": [
        "difference  = get_centered_cell(iframe+1) - get_centered_cell(iframe)\n",
        "imshow(difference)"
      ],
      "execution_count": null,
      "outputs": [
        {
          "output_type": "execute_result",
          "data": {
            "text/plain": [
              "<matplotlib.image.AxesImage at 0x7f4567a23910>"
            ]
          },
          "metadata": {
            "tags": []
          },
          "execution_count": 24
        },
        {
          "output_type": "display_data",
          "data": {
            "image/png": "[encoded data removed]",
            "text/plain": [
              "<Figure size 432x288 with 2 Axes>"
            ]
          },
          "metadata": {
            "tags": [],
            "needs_background": "light"
          }
        }
      ]
    },
    {
      "cell_type": "code",
      "metadata": {
        "colab": {
          "base_uri": "https://localhost:8080/",
          "height": 395
        },
        "id": "8vAVqX9fz6C2",
        "outputId": "385fcc31-2974-4505-ccc3-0ed42ec847d5"
      },
      "source": [
        "fig = plt.figure(figsize=(12, 6))\n",
        "ax_image = fig.add_subplot(111) \n",
        "\n",
        "ax_image.imshow(difference, cmap='coolwarm')\n",
        "ax_image.scatter(centroidx,centroidy,color='magenta',s=5)\n",
        "ax_image.scatter(protrusion_x,protrusion_y,color='red',s=5)\n",
        "ax_image.scatter(retraction_x,retraction_y,color='blue',s=5)"
      ],
      "execution_count": null,
      "outputs": [
        {
          "output_type": "execute_result",
          "data": {
            "text/plain": [
              "<matplotlib.collections.PathCollection at 0x7f4567926d10>"
            ]
          },
          "metadata": {
            "tags": []
          },
          "execution_count": 25
        },
        {
          "output_type": "display_data",
          "data": {
            "image/png": "[encoded data removed]",
            "text/plain": [
              "<Figure size 864x432 with 1 Axes>"
            ]
          },
          "metadata": {
            "tags": [],
            "needs_background": "light"
          }
        }
      ]
    },
    {
      "cell_type": "code",
      "metadata": {
        "colab": {
          "base_uri": "https://localhost:8080/"
        },
        "id": "0R8LBKRvSF56",
        "outputId": "d8e0f86c-dfa8-4f2d-f6fc-86572b6d6324"
      },
      "source": [
        "print(protrusion_angle*180/np.pi,retraction_angle*180/np.pi )"
      ],
      "execution_count": null,
      "outputs": [
        {
          "output_type": "stream",
          "text": [
            "72.89727103094764 105.25511870305778\n"
          ],
          "name": "stdout"
        }
      ]
    },
    {
      "cell_type": "code",
      "metadata": {
        "id": "Asd6R9NYSHv1"
      },
      "source": [
        ""
      ],
      "execution_count": null,
      "outputs": []
    }
  ]
}