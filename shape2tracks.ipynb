{
  "nbformat": 4,
  "nbformat_minor": 0,
  "metadata": {
    "colab": {
      "name": "shape2tracks.ipynb",
      "provenance": [],
      "collapsed_sections": [
        "5mvQa2M5Ausc",
        "Neqk84E9qYUr",
        "gvEFAiXtwdUC",
        "hjiOQv8croqS",
        "bSql_jX8COw1",
        "aERHUOW2Cdeu",
        "i--x8-NSBNvO"
      ],
      "authorship_tag": "ABX9TyNgjB1KHkjVjtrF/3YCIyeK",
      "include_colab_link": true
    },
    "kernelspec": {
      "name": "python3",
      "display_name": "Python 3"
    },
    "language_info": {
      "name": "python"
    }
  },
  "cells": [
    {
      "cell_type": "markdown",
      "metadata": {
        "id": "view-in-github",
        "colab_type": "text"
      },
      "source": [
        "<a href=\"https://colab.research.google.com/github/samuramirez/cellmigration/blob/master/shape2tracks.ipynb\" target=\"_parent\"><img src=\"https://colab.research.google.com/assets/colab-badge.svg\" alt=\"Open In Colab\"/></a>"
      ]
    },
    {
      "cell_type": "markdown",
      "metadata": {
        "id": "5mvQa2M5Ausc"
      },
      "source": [
        "### Mount Google Drive (Colab can see Drive files) and authenticate so that we can interact with GCP via SDK"
      ]
    },
    {
      "cell_type": "code",
      "metadata": {
        "colab": {
          "base_uri": "https://localhost:8080/"
        },
        "id": "eKZbquC3Ausg",
        "outputId": "c9b5b02c-0b7f-47f2-9c0b-9be123154fdb"
      },
      "source": [
        "from google.colab import drive\n",
        "drive.mount('/content/drive')"
      ],
      "execution_count": 1,
      "outputs": [
        {
          "output_type": "stream",
          "text": [
            "Mounted at /content/drive\n"
          ],
          "name": "stdout"
        }
      ]
    },
    {
      "cell_type": "code",
      "metadata": {
        "id": "sAF_cEvVAusj"
      },
      "source": [
        "from google.colab import auth\n",
        "#This allows SDK to see and edit Google Drive files\n",
        "#SDK is required to interact with GCP\n",
        "auth.authenticate_user()"
      ],
      "execution_count": 2,
      "outputs": []
    },
    {
      "cell_type": "markdown",
      "metadata": {
        "id": "Neqk84E9qYUr"
      },
      "source": [
        "# Add cell shape features to tracks"
      ]
    },
    {
      "cell_type": "markdown",
      "metadata": {
        "id": "gvEFAiXtwdUC"
      },
      "source": [
        "### Load required libraries "
      ]
    },
    {
      "cell_type": "code",
      "metadata": {
        "id": "Yrrdabb6wdUE"
      },
      "source": [
        "import numpy as np\n",
        "from ipywidgets import interact, widgets, Layout\n",
        "import matplotlib.pyplot as plt\n",
        "from matplotlib import cm\n",
        "from skimage.io import imread, imsave, imshow\n",
        "from skimage import data, filters, measure, morphology\n",
        "from skimage.exposure import rescale_intensity\n",
        "from skimage.transform import rescale, resize, downscale_local_mean, rotate\n",
        "from skimage.measure import  regionprops, regionprops_table\n",
        "import pandas as pd\n",
        "import ntpath\n",
        "import os\n",
        "import pickle\n",
        "import copy\n",
        "import re\n",
        "import glob\n",
        "from scipy.stats import skew\n",
        "\n",
        "\n",
        "#Get from Drive the folder libraries\n",
        "!cp -r /content/drive/MyDrive/libraries/centers.py /content\n",
        "from centers import get_centers"
      ],
      "execution_count": 3,
      "outputs": []
    },
    {
      "cell_type": "markdown",
      "metadata": {
        "id": "hjiOQv8croqS"
      },
      "source": [
        "### Read data and define auxiliary functions"
      ]
    },
    {
      "cell_type": "code",
      "metadata": {
        "id": "nNShI_SaroqT",
        "cellView": "form"
      },
      "source": [
        "#@markdown Input required to copy data from bucket to colab (tracks, images and masks)\n",
        "\n",
        "#@markdown output_path is the path to folder_output (where tracks must be stored) in GCP bucket\n",
        "output_path = 'cellmbucket/analysis_pri_050521' #@param {type:\"string\"}\n",
        "#@markdown experiment is the name of the experiment analzyed (this was defined in the tracking section and makes part of the name of the tracks file)\n",
        "experiment='03122021-JR20P14-control-sample5'  #@param {type:\"string\"}\n"
      ],
      "execution_count": 4,
      "outputs": []
    },
    {
      "cell_type": "code",
      "metadata": {
        "id": "xrF6qx0hrSNQ"
      },
      "source": [
        "#read labeled masks and tracks\n",
        "!gsutil cp gs://{output_path}/{experiment}_labeledmasks.zip ./  \n",
        "\n",
        "#unzip labeld masks\n",
        "!unzip {experiment}_labeledmasks.zip"
      ],
      "execution_count": null,
      "outputs": []
    },
    {
      "cell_type": "code",
      "metadata": {
        "id": "M2yTJgVP5cuy"
      },
      "source": [
        " #masks_folder = glob.glob(\"*labeledmasks\")[0]\n",
        " masks_folder = experiment+'_labeledmasks'"
      ],
      "execution_count": 10,
      "outputs": []
    },
    {
      "cell_type": "code",
      "metadata": {
        "colab": {
          "base_uri": "https://localhost:8080/",
          "height": 35
        },
        "id": "CGaHgFes6Y4Z",
        "outputId": "eca156b5-6a35-4c44-86dc-741a8443d91a"
      },
      "source": [
        "masks_folder"
      ],
      "execution_count": 11,
      "outputs": [
        {
          "output_type": "execute_result",
          "data": {
            "application/vnd.google.colaboratory.intrinsic+json": {
              "type": "string"
            },
            "text/plain": [
              "'03122021-JR20P14-control-sample5_labeledmasks'"
            ]
          },
          "metadata": {
            "tags": []
          },
          "execution_count": 11
        }
      ]
    },
    {
      "cell_type": "code",
      "metadata": {
        "id": "DYQyfOxutdyP",
        "colab": {
          "base_uri": "https://localhost:8080/"
        },
        "outputId": "fcac702d-7800-4a6f-affc-69ab01422b34"
      },
      "source": [
        "#read pickled tracks\n",
        "#!gsutil cp gs://{output_path}/{experiment}_tracks_geo*.pkl .\n",
        "!gsutil cp gs://{output_path}/{experiment}_tracksqc.pkl ."
      ],
      "execution_count": 12,
      "outputs": [
        {
          "output_type": "stream",
          "text": [
            "Copying gs://cellmbucket/analysis_pri_050521/03122021-JR20P14-control-sample5_tracksqc.pkl...\n",
            "/ [1 files][ 85.2 KiB/ 85.2 KiB]                                                \n",
            "Operation completed over 1 objects/85.2 KiB.                                     \n"
          ],
          "name": "stdout"
        }
      ]
    },
    {
      "cell_type": "code",
      "metadata": {
        "id": "-dBraP4Qv6mz"
      },
      "source": [
        "#tracksnames = glob.glob(experiment+\"_tracks_geo*.pkl\")"
      ],
      "execution_count": null,
      "outputs": []
    },
    {
      "cell_type": "code",
      "metadata": {
        "id": "VtGn6dkCxlON"
      },
      "source": [
        "tracks_filename = experiment+ '_tracksqc.pkl'"
      ],
      "execution_count": 13,
      "outputs": []
    },
    {
      "cell_type": "code",
      "metadata": {
        "id": "xHfEXZjbvIbT"
      },
      "source": [
        "#unpickle tracks  \n",
        "with open(tracks_filename, 'rb') as handle:\n",
        "  tracks_noshape = pickle.load(handle, encoding='latin1')  "
      ],
      "execution_count": 16,
      "outputs": []
    },
    {
      "cell_type": "code",
      "metadata": {
        "id": "r1V7OTps5MB1"
      },
      "source": [
        "#function to read a mask corresponding to a given movie (implicit parameter), and frame (explicit parameter iframe)\n",
        "get_mask = lambda iframe: imread( masks_folder +'/'+ basename+ '_s' + str(int(movie)) +'_t' + str(int(frame[iframe])) + '.TIF')\n",
        "\n",
        "#function that returns the mask of a cell centered. It takes the cell label in the mask, and the movie\n",
        "#as implicit parameters determined by the track information (as used later). \n",
        "def get_centered_cell(iframe):\n",
        "  mask=get_mask(iframe)\n",
        "  #erase all objects with different label as cell\n",
        "  mask[mask != label[iframe] ] =0\n",
        "  #set cell positions as 1\n",
        "  mask[mask > 0 ] = 1\n",
        "  props = measure.regionprops(mask)\n",
        "  #center image\n",
        "  centroid=props[0].centroid\n",
        "  N=mask.shape\n",
        "  centered=mask[np.ix_((np.arange(N[0]) + int(centroid[0]) - int(N[0]/2)) % N[0] , (np.arange(N[1]) + int(centroid[1]) - int(N[1]/2)) % N[1])]\n",
        "  return centered\n",
        "\n",
        "#function that returns the mask of a cell. It takes the cell label in the mask, and the movie\n",
        "#as implicit parameters determined by the track information (as used later).\n",
        "def get_cell(iframe):\n",
        "  mask=get_mask(iframe)  \n",
        "  #erase all objects with different label as cell\n",
        "  mask[mask != label[iframe] ] =0\n",
        "  #set cell positions as 1\n",
        "  mask[mask > 0 ] = 1\n",
        "\n",
        "  return mask\n",
        "\n",
        "rotation_matrix = lambda angle: np.asarray([[np.cos(angle) , -np.sin(angle)],[np.sin(angle), np.cos(angle)]] )"
      ],
      "execution_count": 23,
      "outputs": []
    },
    {
      "cell_type": "markdown",
      "metadata": {
        "id": "bSql_jX8COw1"
      },
      "source": [
        "### Loop to add features to each timepoint of all the tracks"
      ]
    },
    {
      "cell_type": "code",
      "metadata": {
        "id": "8ZIk_nffUgVr",
        "colab": {
          "base_uri": "https://localhost:8080/"
        },
        "outputId": "8b3aaa30-f03d-4f5c-cf1f-fdfcf016be1f"
      },
      "source": [
        "#Add morphological and morphodynamical features to each timepoint (frame) in the tracks\n",
        "\n",
        "tracks = copy.copy(tracks_noshape)\n",
        "\n",
        "for itrack in range(len(tracks)):\n",
        "  tracklength = len(tracks[itrack])\n",
        "  movie = tracks[itrack]['movie'].iloc[0]\n",
        "  frame = list(tracks[itrack]['frame'])\n",
        "  label = list(tracks[itrack]['label'])\n",
        "  masks=os.listdir(masks_folder)\n",
        "  #implicit argument to read cells\n",
        "  basename=re.findall(r\"(.+)_s\",masks[0])[0] \n",
        "\n",
        "  #get polarization angle, skew, protrusion and retraction angle,norm area, radii \n",
        "  \n",
        "  median_centroidy = []\n",
        "  median_centroidx = []\n",
        "  protrusion_angles=[]\n",
        "  mean_protrusion_angles=[]\n",
        "  protrusion_norm_radii =[]\n",
        "  protrusion_norm_areas=[]\n",
        "  retraction_angles=[]\n",
        "  mean_retraction_angles=[]\n",
        "  retraction_norm_areas=[]\n",
        "  retraction_norm_radii=[]\n",
        "  mean_retraction_norm_radii=[]\n",
        "  mean_protrusion_norm_radii =[]\n",
        "\n",
        "  cell_angles = []\n",
        "  cell_skews = []\n",
        "\n",
        "  #select scikit-image shape metrics\n",
        "  shape_metrics = ['area','eccentricity','orientation','perimeter','solidity','major_axis_length','minor_axis_length','centroid']\n",
        "  track_shape_metrics = pd.DataFrame()\n",
        "\n",
        "  for iframe in range(tracklength):\n",
        "    #get scikit defined cell metrics\n",
        "    cell = get_cell(iframe)    \n",
        "    cell_shape_metrics = measure.regionprops_table(cell, properties = shape_metrics)        \n",
        "    cell_shape_metrics=pd.DataFrame(cell_shape_metrics)\n",
        "    #append cell shape metrics to track shape metrics\n",
        "    track_shape_metrics = track_shape_metrics.append(cell_shape_metrics, ignore_index=True)\n",
        "    celly,cellx = np.where(cell)\n",
        "    median_centroidy.append( np.median(celly) ) \n",
        "    median_centroidx.append( np.median(cellx) )\n",
        "\n",
        "  for iframe in range(tracklength-1):\n",
        "\n",
        "    #GET CELL POLARIZATION ANGLE \n",
        "\n",
        "    cell_centered = get_centered_cell(iframe)\n",
        "    props = regionprops(cell_centered)\n",
        "    #major axis angle with respect to y (0 axis : rows) counter-clockwise -pi/2 , pi/2  \n",
        "    angle_y = props[0].orientation\n",
        "    #rotate cell so that major axis is aligned with the y axis\n",
        "    cell_y = rotate(cell_centered,-angle_y*180/np.pi,order=0, preserve_range=True)\n",
        "    #project cell on the x (1) axis\n",
        "    proj_x = np.sum(cell_y,1)      \n",
        "    #get cell polarization vector in a regular coordinate system\n",
        "    #skew sign corresponds to the tail of the distribution, cell polarization is  \n",
        "    #defined here as -skew. Because image y-axis is inverted, in a regular coordinate\n",
        "    #system, cell polarization vector is defined as -(-skew) = skew:\n",
        "    celly_polarization = [0 , skew(proj_x) ]      \n",
        "    #rotate back\n",
        "    polarization = np.dot( rotation_matrix(angle_y) , celly_polarization )\n",
        "    cell_angles.append( np.arctan2(polarization[1],polarization[0]) )\n",
        "    cell_skews.append(skew(proj_x))\n",
        "\n",
        "    #PROTRUSION AND RETRACTION VECTORS : angle, norm_areas, radii (calculated with medians)\n",
        "    difference  = get_centered_cell(iframe+1) - get_centered_cell(iframe)\n",
        "    #get centroids of cell(iframe), protrusion and retraction\n",
        "    y,x =np.where(get_centered_cell(iframe))\n",
        "    centroidy, centroidx = np.median(y), np.median(x)\n",
        "    yp,xp = np.where(difference==1)\n",
        "    protrusion_y, protrusion_x  = np.median(yp) , np.median(xp)\n",
        "    yr,xr = np.where(difference==-1)\n",
        "    retraction_y, retraction_x  = np.median(yr) , np.median(xr) \n",
        "    #get protr and retr angle in a regular coordinate system: [ximage , - yimage]\n",
        "    #and norm_areas\n",
        "    protrusion_angles.append( np.arctan2( -(protrusion_y - centroidy) , protrusion_x - centroidx) )\n",
        "    protrusion_norm_areas.append(len(yp)/ len(y))\n",
        "    #effective radius (area/pi)^0.5\n",
        "    protrusion_norm_radii.append( ((protrusion_x-centroidx)**2+(protrusion_y-centroidy)**2)**0.5/(len(y)/np.pi)**0.5 )\n",
        "    retraction_angles.append(np.arctan2( -(retraction_y - centroidy), retraction_x - centroidx)  )\n",
        "    retraction_norm_areas.append( len(yr)/len(y) )\n",
        "    retraction_norm_radii.append( ((retraction_x-centroidx)**2+(retraction_y-centroidy)**2)**0.5/(len(y)/np.pi)**0.5 )\n",
        "\n",
        "\n",
        "    #PROTRUSION AND RETRACTION angles, radii, calculated with means\n",
        "    #get centroids of cell(iframe), protrusion and retraction\n",
        "    mean_centroidy, mean_centroidx = np.mean(y), np.mean(x)\n",
        "    mean_protrusion_y, mean_protrusion_x  = np.mean(yp) , np.mean(xp)\n",
        "    mean_retraction_y, mean_retraction_x  = np.mean(yr) , np.mean(xr) \n",
        "    #get protr and retr angle in a regular coordinate system: [ximage , - yimage]\n",
        "    #and norm_areas\n",
        "    mean_protrusion_angles.append(np.arctan2( -(mean_protrusion_y - mean_centroidy), mean_protrusion_x - mean_centroidx) )\n",
        "    mean_retraction_angles.append(np.arctan2( -(mean_retraction_y - mean_centroidy), mean_retraction_x - mean_centroidx) )\n",
        "    mean_protrusion_norm_radii.append( ((mean_protrusion_x-mean_centroidx)**2+(mean_protrusion_y-mean_centroidy)**2)**0.5/(len(y)/np.pi)**0.5 )\n",
        "    mean_retraction_norm_radii.append( ((mean_retraction_x-mean_centroidx)**2+(mean_retraction_y-mean_centroidy)**2)**0.5/(len(y)/np.pi)**0.5 )\n",
        "\n",
        "\n",
        "  med_centroids = pd.DataFrame({'median_centroidx':median_centroidx, 'median_centroidy':median_centroidy})\n",
        "  \n",
        "  shape_features= pd.DataFrame({'polarity_angle':cell_angles, 'skew':cell_skews, \n",
        "                                'protr_angle':protrusion_angles, 'mean_protr_angle':mean_protrusion_angles, 'protr_norm_area':protrusion_norm_areas, \n",
        "                            'retr_angle': retraction_angles, 'mean_retr_angle': mean_retraction_angles, 'retr_norm_area': retraction_norm_areas,\n",
        "                            'protr_norm_radii':protrusion_norm_radii, 'mean_protr_norm_radii':mean_protrusion_norm_radii,\n",
        "                            'retr_norm_radii':retraction_norm_radii, 'mean_retr_norm_radii':mean_retraction_norm_radii, })\n",
        "  \n",
        "  tracks[itrack] = pd.concat([tracks[itrack].reset_index(drop=True), track_shape_metrics.reset_index(drop=True)], axis = 1 )\n",
        "\n",
        "  tracks[itrack] = pd.concat([tracks[itrack].reset_index(drop=True), med_centroids.reset_index(drop=True)], axis = 1 )\n",
        "\n",
        "  tracks[itrack] = pd.concat([tracks[itrack].reset_index(drop=True), shape_features.reset_index(drop=True)], axis = 1 )\n",
        "\n"
      ],
      "execution_count": 45,
      "outputs": [
        {
          "output_type": "stream",
          "text": [
            "/usr/local/lib/python3.7/dist-packages/numpy/core/fromnumeric.py:3373: RuntimeWarning: Mean of empty slice.\n",
            "  out=out, **kwargs)\n",
            "/usr/local/lib/python3.7/dist-packages/numpy/core/_methods.py:170: RuntimeWarning: invalid value encountered in double_scalars\n",
            "  ret = ret.dtype.type(ret / rcount)\n"
          ],
          "name": "stderr"
        }
      ]
    },
    {
      "cell_type": "markdown",
      "metadata": {
        "id": "aERHUOW2Cdeu"
      },
      "source": [
        "### Save updated tracks"
      ]
    },
    {
      "cell_type": "code",
      "metadata": {
        "id": "O2_3bEf3CcT8"
      },
      "source": [
        "#save tracks from each region separately\n",
        "\n",
        "with open(experiment+'_tracks_shape.pkl', 'wb') as handle:\n",
        "    pickle.dump(tracks, handle, protocol=2)\n",
        "\n",
        "#transfer data to GCP bucket\n",
        "!gsutil cp {experiment}_tracks_shape.pkl gs://{output_path}"
      ],
      "execution_count": null,
      "outputs": []
    },
    {
      "cell_type": "markdown",
      "metadata": {
        "id": "i--x8-NSBNvO"
      },
      "source": [
        "# An instance of the feature addition step to verify the code"
      ]
    },
    {
      "cell_type": "code",
      "metadata": {
        "colab": {
          "base_uri": "https://localhost:8080/",
          "height": 582
        },
        "id": "erJO2CgBEpAn",
        "outputId": "14704b3a-2da0-49ae-bcbd-5b6816eb2ae3"
      },
      "source": [
        "tracks[1]"
      ],
      "execution_count": 46,
      "outputs": [
        {
          "output_type": "execute_result",
          "data": {
            "text/html": [
              "<div>\n",
              "<style scoped>\n",
              "    .dataframe tbody tr th:only-of-type {\n",
              "        vertical-align: middle;\n",
              "    }\n",
              "\n",
              "    .dataframe tbody tr th {\n",
              "        vertical-align: top;\n",
              "    }\n",
              "\n",
              "    .dataframe thead th {\n",
              "        text-align: right;\n",
              "    }\n",
              "</style>\n",
              "<table border=\"1\" class=\"dataframe\">\n",
              "  <thead>\n",
              "    <tr style=\"text-align: right;\">\n",
              "      <th></th>\n",
              "      <th>movie</th>\n",
              "      <th>frame</th>\n",
              "      <th>label</th>\n",
              "      <th>area</th>\n",
              "      <th>approximate-medoidx</th>\n",
              "      <th>approximate-medoidy</th>\n",
              "      <th>gel-region</th>\n",
              "      <th>area</th>\n",
              "      <th>eccentricity</th>\n",
              "      <th>orientation</th>\n",
              "      <th>perimeter</th>\n",
              "      <th>solidity</th>\n",
              "      <th>major_axis_length</th>\n",
              "      <th>minor_axis_length</th>\n",
              "      <th>centroid-0</th>\n",
              "      <th>centroid-1</th>\n",
              "      <th>median_centroidx</th>\n",
              "      <th>median_centroidy</th>\n",
              "      <th>polarity_angle</th>\n",
              "      <th>skew</th>\n",
              "      <th>protr_angle</th>\n",
              "      <th>mean_protr_angle</th>\n",
              "      <th>protr_norm_area</th>\n",
              "      <th>retr_angle</th>\n",
              "      <th>mean_retr_angle</th>\n",
              "      <th>retr_norm_area</th>\n",
              "      <th>protr_norm_radii</th>\n",
              "      <th>mean_protr_norm_radii</th>\n",
              "      <th>retr_norm_radii</th>\n",
              "      <th>mean_retr_norm_radii</th>\n",
              "    </tr>\n",
              "  </thead>\n",
              "  <tbody>\n",
              "    <tr>\n",
              "      <th>0</th>\n",
              "      <td>1.0</td>\n",
              "      <td>88.0</td>\n",
              "      <td>1.0</td>\n",
              "      <td>1027.0</td>\n",
              "      <td>145.0</td>\n",
              "      <td>164.0</td>\n",
              "      <td>stiff</td>\n",
              "      <td>1027</td>\n",
              "      <td>0.827624</td>\n",
              "      <td>-1.124512</td>\n",
              "      <td>164.681241</td>\n",
              "      <td>0.775680</td>\n",
              "      <td>51.345229</td>\n",
              "      <td>28.819195</td>\n",
              "      <td>164</td>\n",
              "      <td>145</td>\n",
              "      <td>145.0</td>\n",
              "      <td>164.0</td>\n",
              "      <td>0.446284</td>\n",
              "      <td>2.043562</td>\n",
              "      <td>0.380506</td>\n",
              "      <td>0.900822</td>\n",
              "      <td>0.174294</td>\n",
              "      <td>-0.090660</td>\n",
              "      <td>0.316322</td>\n",
              "      <td>0.134372</td>\n",
              "      <td>0.893532</td>\n",
              "      <td>0.437459</td>\n",
              "      <td>0.610899</td>\n",
              "      <td>0.324856</td>\n",
              "    </tr>\n",
              "    <tr>\n",
              "      <th>1</th>\n",
              "      <td>1.0</td>\n",
              "      <td>89.0</td>\n",
              "      <td>1.0</td>\n",
              "      <td>1068.0</td>\n",
              "      <td>138.0</td>\n",
              "      <td>164.0</td>\n",
              "      <td>stiff</td>\n",
              "      <td>1068</td>\n",
              "      <td>0.830144</td>\n",
              "      <td>-1.405515</td>\n",
              "      <td>168.610173</td>\n",
              "      <td>0.729508</td>\n",
              "      <td>53.269157</td>\n",
              "      <td>29.700184</td>\n",
              "      <td>165</td>\n",
              "      <td>138</td>\n",
              "      <td>138.0</td>\n",
              "      <td>164.0</td>\n",
              "      <td>0.165282</td>\n",
              "      <td>1.980697</td>\n",
              "      <td>-1.532354</td>\n",
              "      <td>-1.890368</td>\n",
              "      <td>0.164794</td>\n",
              "      <td>-2.999696</td>\n",
              "      <td>0.374321</td>\n",
              "      <td>0.159176</td>\n",
              "      <td>0.705592</td>\n",
              "      <td>0.178862</td>\n",
              "      <td>0.383508</td>\n",
              "      <td>0.094989</td>\n",
              "    </tr>\n",
              "    <tr>\n",
              "      <th>2</th>\n",
              "      <td>1.0</td>\n",
              "      <td>90.0</td>\n",
              "      <td>1.0</td>\n",
              "      <td>1074.0</td>\n",
              "      <td>133.0</td>\n",
              "      <td>167.0</td>\n",
              "      <td>stiff</td>\n",
              "      <td>1074</td>\n",
              "      <td>0.680616</td>\n",
              "      <td>-1.058944</td>\n",
              "      <td>161.195959</td>\n",
              "      <td>0.809955</td>\n",
              "      <td>47.149759</td>\n",
              "      <td>34.543819</td>\n",
              "      <td>168</td>\n",
              "      <td>133</td>\n",
              "      <td>133.0</td>\n",
              "      <td>167.0</td>\n",
              "      <td>0.511853</td>\n",
              "      <td>2.419676</td>\n",
              "      <td>-0.165149</td>\n",
              "      <td>2.789296</td>\n",
              "      <td>0.279330</td>\n",
              "      <td>-2.483704</td>\n",
              "      <td>-2.041938</td>\n",
              "      <td>0.076350</td>\n",
              "      <td>0.328983</td>\n",
              "      <td>0.019010</td>\n",
              "      <td>0.751852</td>\n",
              "      <td>0.079376</td>\n",
              "    </tr>\n",
              "    <tr>\n",
              "      <th>3</th>\n",
              "      <td>1.0</td>\n",
              "      <td>91.0</td>\n",
              "      <td>1.0</td>\n",
              "      <td>1292.0</td>\n",
              "      <td>127.0</td>\n",
              "      <td>168.0</td>\n",
              "      <td>stiff</td>\n",
              "      <td>1292</td>\n",
              "      <td>0.520028</td>\n",
              "      <td>1.060194</td>\n",
              "      <td>164.166522</td>\n",
              "      <td>0.839506</td>\n",
              "      <td>47.597260</td>\n",
              "      <td>40.655169</td>\n",
              "      <td>169</td>\n",
              "      <td>127</td>\n",
              "      <td>127.5</td>\n",
              "      <td>168.0</td>\n",
              "      <td>2.630990</td>\n",
              "      <td>2.177252</td>\n",
              "      <td>1.609239</td>\n",
              "      <td>1.672476</td>\n",
              "      <td>0.226006</td>\n",
              "      <td>2.906048</td>\n",
              "      <td>1.900051</td>\n",
              "      <td>0.204334</td>\n",
              "      <td>0.641517</td>\n",
              "      <td>0.108279</td>\n",
              "      <td>0.633891</td>\n",
              "      <td>0.182842</td>\n",
              "    </tr>\n",
              "    <tr>\n",
              "      <th>4</th>\n",
              "      <td>1.0</td>\n",
              "      <td>92.0</td>\n",
              "      <td>1.0</td>\n",
              "      <td>1320.0</td>\n",
              "      <td>128.0</td>\n",
              "      <td>175.0</td>\n",
              "      <td>stiff</td>\n",
              "      <td>1320</td>\n",
              "      <td>0.780984</td>\n",
              "      <td>0.175043</td>\n",
              "      <td>167.710678</td>\n",
              "      <td>0.882943</td>\n",
              "      <td>54.497296</td>\n",
              "      <td>34.036321</td>\n",
              "      <td>175</td>\n",
              "      <td>128</td>\n",
              "      <td>128.0</td>\n",
              "      <td>175.0</td>\n",
              "      <td>1.745839</td>\n",
              "      <td>1.820484</td>\n",
              "      <td>-2.677945</td>\n",
              "      <td>-2.084767</td>\n",
              "      <td>0.169697</td>\n",
              "      <td>-1.373401</td>\n",
              "      <td>-1.237230</td>\n",
              "      <td>0.129545</td>\n",
              "      <td>0.436348</td>\n",
              "      <td>0.170208</td>\n",
              "      <td>0.746270</td>\n",
              "      <td>0.322979</td>\n",
              "    </tr>\n",
              "    <tr>\n",
              "      <th>5</th>\n",
              "      <td>1.0</td>\n",
              "      <td>93.0</td>\n",
              "      <td>1.0</td>\n",
              "      <td>1373.0</td>\n",
              "      <td>129.0</td>\n",
              "      <td>174.0</td>\n",
              "      <td>stiff</td>\n",
              "      <td>1373</td>\n",
              "      <td>0.663788</td>\n",
              "      <td>-0.266137</td>\n",
              "      <td>170.331998</td>\n",
              "      <td>0.889825</td>\n",
              "      <td>51.057579</td>\n",
              "      <td>38.187012</td>\n",
              "      <td>175</td>\n",
              "      <td>130</td>\n",
              "      <td>129.0</td>\n",
              "      <td>174.0</td>\n",
              "      <td>1.304659</td>\n",
              "      <td>1.918649</td>\n",
              "      <td>0.694738</td>\n",
              "      <td>0.501230</td>\n",
              "      <td>0.088128</td>\n",
              "      <td>1.570796</td>\n",
              "      <td>0.398792</td>\n",
              "      <td>0.110706</td>\n",
              "      <td>0.747196</td>\n",
              "      <td>0.216444</td>\n",
              "      <td>0.263089</td>\n",
              "      <td>0.032573</td>\n",
              "    </tr>\n",
              "    <tr>\n",
              "      <th>6</th>\n",
              "      <td>1.0</td>\n",
              "      <td>94.0</td>\n",
              "      <td>1.0</td>\n",
              "      <td>1342.0</td>\n",
              "      <td>130.0</td>\n",
              "      <td>174.0</td>\n",
              "      <td>stiff</td>\n",
              "      <td>1342</td>\n",
              "      <td>0.567454</td>\n",
              "      <td>-0.329985</td>\n",
              "      <td>196.095454</td>\n",
              "      <td>0.753509</td>\n",
              "      <td>50.394496</td>\n",
              "      <td>41.495070</td>\n",
              "      <td>175</td>\n",
              "      <td>131</td>\n",
              "      <td>130.0</td>\n",
              "      <td>174.0</td>\n",
              "      <td>1.240812</td>\n",
              "      <td>1.942380</td>\n",
              "      <td>2.356194</td>\n",
              "      <td>1.942583</td>\n",
              "      <td>0.148286</td>\n",
              "      <td>1.152572</td>\n",
              "      <td>0.495229</td>\n",
              "      <td>0.091654</td>\n",
              "      <td>0.410549</td>\n",
              "      <td>0.143147</td>\n",
              "      <td>0.476524</td>\n",
              "      <td>0.130418</td>\n",
              "    </tr>\n",
              "    <tr>\n",
              "      <th>7</th>\n",
              "      <td>1.0</td>\n",
              "      <td>95.0</td>\n",
              "      <td>1.0</td>\n",
              "      <td>1418.0</td>\n",
              "      <td>129.0</td>\n",
              "      <td>171.0</td>\n",
              "      <td>stiff</td>\n",
              "      <td>1418</td>\n",
              "      <td>0.569215</td>\n",
              "      <td>0.071664</td>\n",
              "      <td>203.752309</td>\n",
              "      <td>0.763186</td>\n",
              "      <td>54.893394</td>\n",
              "      <td>45.132725</td>\n",
              "      <td>173</td>\n",
              "      <td>130</td>\n",
              "      <td>129.0</td>\n",
              "      <td>171.0</td>\n",
              "      <td>1.642460</td>\n",
              "      <td>2.163172</td>\n",
              "      <td>-1.158386</td>\n",
              "      <td>-0.754677</td>\n",
              "      <td>0.160790</td>\n",
              "      <td>2.356194</td>\n",
              "      <td>-1.177475</td>\n",
              "      <td>0.236953</td>\n",
              "      <td>0.822028</td>\n",
              "      <td>0.287777</td>\n",
              "      <td>0.332830</td>\n",
              "      <td>0.030106</td>\n",
              "    </tr>\n",
              "    <tr>\n",
              "      <th>8</th>\n",
              "      <td>1.0</td>\n",
              "      <td>96.0</td>\n",
              "      <td>1.0</td>\n",
              "      <td>1310.0</td>\n",
              "      <td>127.0</td>\n",
              "      <td>172.0</td>\n",
              "      <td>stiff</td>\n",
              "      <td>1310</td>\n",
              "      <td>0.809444</td>\n",
              "      <td>0.474280</td>\n",
              "      <td>184.811183</td>\n",
              "      <td>0.746864</td>\n",
              "      <td>58.696138</td>\n",
              "      <td>34.466206</td>\n",
              "      <td>172</td>\n",
              "      <td>127</td>\n",
              "      <td>127.0</td>\n",
              "      <td>172.0</td>\n",
              "      <td>2.045076</td>\n",
              "      <td>1.839696</td>\n",
              "      <td>1.570796</td>\n",
              "      <td>1.058116</td>\n",
              "      <td>0.252672</td>\n",
              "      <td>0.785398</td>\n",
              "      <td>0.923858</td>\n",
              "      <td>0.070229</td>\n",
              "      <td>0.293826</td>\n",
              "      <td>0.163082</td>\n",
              "      <td>0.692555</td>\n",
              "      <td>0.511897</td>\n",
              "    </tr>\n",
              "    <tr>\n",
              "      <th>9</th>\n",
              "      <td>1.0</td>\n",
              "      <td>97.0</td>\n",
              "      <td>1.0</td>\n",
              "      <td>1549.0</td>\n",
              "      <td>125.0</td>\n",
              "      <td>169.0</td>\n",
              "      <td>stiff</td>\n",
              "      <td>1549</td>\n",
              "      <td>0.848092</td>\n",
              "      <td>0.497028</td>\n",
              "      <td>228.308658</td>\n",
              "      <td>0.688139</td>\n",
              "      <td>69.467501</td>\n",
              "      <td>36.807256</td>\n",
              "      <td>168</td>\n",
              "      <td>125</td>\n",
              "      <td>125.0</td>\n",
              "      <td>169.0</td>\n",
              "      <td>2.067824</td>\n",
              "      <td>1.704081</td>\n",
              "      <td>1.144169</td>\n",
              "      <td>1.325309</td>\n",
              "      <td>0.134926</td>\n",
              "      <td>1.951303</td>\n",
              "      <td>1.529198</td>\n",
              "      <td>0.182699</td>\n",
              "      <td>0.544159</td>\n",
              "      <td>0.267991</td>\n",
              "      <td>0.485041</td>\n",
              "      <td>0.183466</td>\n",
              "    </tr>\n",
              "    <tr>\n",
              "      <th>10</th>\n",
              "      <td>1.0</td>\n",
              "      <td>98.0</td>\n",
              "      <td>1.0</td>\n",
              "      <td>1475.0</td>\n",
              "      <td>126.0</td>\n",
              "      <td>171.0</td>\n",
              "      <td>stiff</td>\n",
              "      <td>1475</td>\n",
              "      <td>0.771798</td>\n",
              "      <td>0.442248</td>\n",
              "      <td>213.852814</td>\n",
              "      <td>0.695099</td>\n",
              "      <td>61.883774</td>\n",
              "      <td>39.349901</td>\n",
              "      <td>171</td>\n",
              "      <td>126</td>\n",
              "      <td>126.0</td>\n",
              "      <td>171.0</td>\n",
              "      <td>2.013044</td>\n",
              "      <td>1.998579</td>\n",
              "      <td>2.158799</td>\n",
              "      <td>2.203857</td>\n",
              "      <td>0.113898</td>\n",
              "      <td>-1.086318</td>\n",
              "      <td>2.641235</td>\n",
              "      <td>0.111186</td>\n",
              "      <td>0.499197</td>\n",
              "      <td>0.228325</td>\n",
              "      <td>0.495449</td>\n",
              "      <td>0.043044</td>\n",
              "    </tr>\n",
              "    <tr>\n",
              "      <th>11</th>\n",
              "      <td>1.0</td>\n",
              "      <td>99.0</td>\n",
              "      <td>1.0</td>\n",
              "      <td>1479.0</td>\n",
              "      <td>125.0</td>\n",
              "      <td>173.0</td>\n",
              "      <td>stiff</td>\n",
              "      <td>1479</td>\n",
              "      <td>0.634754</td>\n",
              "      <td>0.324216</td>\n",
              "      <td>205.823376</td>\n",
              "      <td>0.734359</td>\n",
              "      <td>56.063026</td>\n",
              "      <td>43.320702</td>\n",
              "      <td>174</td>\n",
              "      <td>125</td>\n",
              "      <td>125.0</td>\n",
              "      <td>173.0</td>\n",
              "      <td>1.895013</td>\n",
              "      <td>2.076542</td>\n",
              "      <td>-2.034444</td>\n",
              "      <td>2.235269</td>\n",
              "      <td>0.315754</td>\n",
              "      <td>2.723368</td>\n",
              "      <td>2.274528</td>\n",
              "      <td>0.237323</td>\n",
              "      <td>0.412226</td>\n",
              "      <td>0.090386</td>\n",
              "      <td>0.453917</td>\n",
              "      <td>0.199433</td>\n",
              "    </tr>\n",
              "    <tr>\n",
              "      <th>12</th>\n",
              "      <td>1.0</td>\n",
              "      <td>100.0</td>\n",
              "      <td>1.0</td>\n",
              "      <td>1595.0</td>\n",
              "      <td>120.0</td>\n",
              "      <td>173.0</td>\n",
              "      <td>stiff</td>\n",
              "      <td>1595</td>\n",
              "      <td>0.904390</td>\n",
              "      <td>0.295811</td>\n",
              "      <td>241.379726</td>\n",
              "      <td>0.644444</td>\n",
              "      <td>82.945959</td>\n",
              "      <td>35.393639</td>\n",
              "      <td>172</td>\n",
              "      <td>120</td>\n",
              "      <td>120.0</td>\n",
              "      <td>173.0</td>\n",
              "      <td>1.866608</td>\n",
              "      <td>1.413401</td>\n",
              "      <td>-3.141593</td>\n",
              "      <td>2.864692</td>\n",
              "      <td>0.230094</td>\n",
              "      <td>1.190290</td>\n",
              "      <td>1.702774</td>\n",
              "      <td>0.158621</td>\n",
              "      <td>0.221904</td>\n",
              "      <td>0.065019</td>\n",
              "      <td>0.477995</td>\n",
              "      <td>0.228773</td>\n",
              "    </tr>\n",
              "    <tr>\n",
              "      <th>13</th>\n",
              "      <td>1.0</td>\n",
              "      <td>101.0</td>\n",
              "      <td>1.0</td>\n",
              "      <td>1709.0</td>\n",
              "      <td>119.0</td>\n",
              "      <td>177.0</td>\n",
              "      <td>stiff</td>\n",
              "      <td>1709</td>\n",
              "      <td>0.915423</td>\n",
              "      <td>0.207625</td>\n",
              "      <td>309.220346</td>\n",
              "      <td>0.583675</td>\n",
              "      <td>97.089782</td>\n",
              "      <td>39.077960</td>\n",
              "      <td>174</td>\n",
              "      <td>120</td>\n",
              "      <td>119.0</td>\n",
              "      <td>177.0</td>\n",
              "      <td>1.778421</td>\n",
              "      <td>1.397712</td>\n",
              "      <td>1.620755</td>\n",
              "      <td>1.673829</td>\n",
              "      <td>0.297250</td>\n",
              "      <td>1.997424</td>\n",
              "      <td>1.482034</td>\n",
              "      <td>0.298420</td>\n",
              "      <td>0.858571</td>\n",
              "      <td>0.480320</td>\n",
              "      <td>0.518060</td>\n",
              "      <td>0.464017</td>\n",
              "    </tr>\n",
              "    <tr>\n",
              "      <th>14</th>\n",
              "      <td>1.0</td>\n",
              "      <td>102.0</td>\n",
              "      <td>1.0</td>\n",
              "      <td>1707.0</td>\n",
              "      <td>116.0</td>\n",
              "      <td>186.0</td>\n",
              "      <td>stiff</td>\n",
              "      <td>1707</td>\n",
              "      <td>0.962169</td>\n",
              "      <td>0.129538</td>\n",
              "      <td>313.350288</td>\n",
              "      <td>0.519635</td>\n",
              "      <td>117.112587</td>\n",
              "      <td>31.907899</td>\n",
              "      <td>181</td>\n",
              "      <td>117</td>\n",
              "      <td>116.0</td>\n",
              "      <td>186.0</td>\n",
              "      <td>1.700334</td>\n",
              "      <td>0.928533</td>\n",
              "      <td>1.570796</td>\n",
              "      <td>1.626000</td>\n",
              "      <td>0.277680</td>\n",
              "      <td>1.726391</td>\n",
              "      <td>1.780922</td>\n",
              "      <td>0.360867</td>\n",
              "      <td>0.772202</td>\n",
              "      <td>0.694209</td>\n",
              "      <td>1.107329</td>\n",
              "      <td>0.458714</td>\n",
              "    </tr>\n",
              "    <tr>\n",
              "      <th>15</th>\n",
              "      <td>1.0</td>\n",
              "      <td>103.0</td>\n",
              "      <td>1.0</td>\n",
              "      <td>1565.0</td>\n",
              "      <td>114.0</td>\n",
              "      <td>203.0</td>\n",
              "      <td>stiff</td>\n",
              "      <td>1565</td>\n",
              "      <td>0.967100</td>\n",
              "      <td>0.085118</td>\n",
              "      <td>283.279221</td>\n",
              "      <td>0.577065</td>\n",
              "      <td>113.487476</td>\n",
              "      <td>28.870859</td>\n",
              "      <td>195</td>\n",
              "      <td>114</td>\n",
              "      <td>114.0</td>\n",
              "      <td>203.0</td>\n",
              "      <td>NaN</td>\n",
              "      <td>NaN</td>\n",
              "      <td>NaN</td>\n",
              "      <td>NaN</td>\n",
              "      <td>NaN</td>\n",
              "      <td>NaN</td>\n",
              "      <td>NaN</td>\n",
              "      <td>NaN</td>\n",
              "      <td>NaN</td>\n",
              "      <td>NaN</td>\n",
              "      <td>NaN</td>\n",
              "      <td>NaN</td>\n",
              "    </tr>\n",
              "  </tbody>\n",
              "</table>\n",
              "</div>"
            ],
            "text/plain": [
              "    movie  frame  ...  retr_norm_radii  mean_retr_norm_radii\n",
              "0     1.0   88.0  ...         0.610899              0.324856\n",
              "1     1.0   89.0  ...         0.383508              0.094989\n",
              "2     1.0   90.0  ...         0.751852              0.079376\n",
              "3     1.0   91.0  ...         0.633891              0.182842\n",
              "4     1.0   92.0  ...         0.746270              0.322979\n",
              "5     1.0   93.0  ...         0.263089              0.032573\n",
              "6     1.0   94.0  ...         0.476524              0.130418\n",
              "7     1.0   95.0  ...         0.332830              0.030106\n",
              "8     1.0   96.0  ...         0.692555              0.511897\n",
              "9     1.0   97.0  ...         0.485041              0.183466\n",
              "10    1.0   98.0  ...         0.495449              0.043044\n",
              "11    1.0   99.0  ...         0.453917              0.199433\n",
              "12    1.0  100.0  ...         0.477995              0.228773\n",
              "13    1.0  101.0  ...         0.518060              0.464017\n",
              "14    1.0  102.0  ...         1.107329              0.458714\n",
              "15    1.0  103.0  ...              NaN                   NaN\n",
              "\n",
              "[16 rows x 30 columns]"
            ]
          },
          "metadata": {
            "tags": []
          },
          "execution_count": 46
        }
      ]
    },
    {
      "cell_type": "code",
      "metadata": {
        "colab": {
          "base_uri": "https://localhost:8080/",
          "height": 315
        },
        "id": "LaRG4bQ5cZax",
        "outputId": "994f0f05-738d-47b9-ea73-23f4b0bf9ec1"
      },
      "source": [
        "itrack=0\n",
        "iframe=0\n",
        "movie = tracks[itrack]['movie'][0]\n",
        "frame = list(tracks[itrack]['frame'])\n",
        "label = list(tracks[itrack]['label'])\n",
        "masks=os.listdir(masks_folder)\n",
        "basename=re.findall(r\"(.+)_s\",masks[0])[0] \n",
        "#imshow(get_centered_cell(iframe))\n",
        "difference  = get_centered_cell(iframe+1) - get_centered_cell(iframe)\n",
        "imshow(difference)\n",
        "#print(basename,movie)"
      ],
      "execution_count": 49,
      "outputs": [
        {
          "output_type": "execute_result",
          "data": {
            "text/plain": [
              "<matplotlib.image.AxesImage at 0x7f5b5bf70610>"
            ]
          },
          "metadata": {
            "tags": []
          },
          "execution_count": 49
        },
        {
          "output_type": "display_data",
          "data": {
            "image/png": "[encoded data removed]",
            "text/plain": [
              "<Figure size 432x288 with 2 Axes>"
            ]
          },
          "metadata": {
            "tags": [],
            "needs_background": "light"
          }
        }
      ]
    },
    {
      "cell_type": "code",
      "metadata": {
        "id": "r3iHfeysiKl8"
      },
      "source": [
        "cell_centered = get_centered_cell(iframe)\n",
        "props = regionprops(cell_centered)\n",
        "#major axis angle with respect to y (0 axis : rows) counter-clockwise -pi/2 , pi/2  \n",
        "angle_y = props[0].orientation\n",
        "#rotate cell so that major axis is aligned with the y axis\n",
        "cell_y = rotate(cell_centered,-angle_y*180/np.pi,order=0, preserve_range=True)\n",
        "#project cell on the x (1) axis\n",
        "proj_x = np.sum(cell_y,1)      \n",
        "#get cell polarization vector in a regular coordinate system\n",
        "#skew sign corresponds to the tail of the distribution, cell polarization is  \n",
        "#defined here as -skew. Because image y-axis is inverted, in a regular coordinate\n",
        "#system, cell polarization vector is defined as -(-skew) = skew:\n",
        "celly_polarization = [0 , skew(proj_x) ]      \n",
        "#rotate back\n",
        "polarization = np.dot( rotation_matrix(angle_y) , celly_polarization )\n",
        "cell_angle =  np.arctan2(polarization[1],polarization[0]) \n",
        "cell_skew =skew(proj_x)"
      ],
      "execution_count": 50,
      "outputs": []
    },
    {
      "cell_type": "code",
      "metadata": {
        "colab": {
          "base_uri": "https://localhost:8080/",
          "height": 372
        },
        "id": "OwFWjUm8l47h",
        "outputId": "53e247c1-6507-4122-93dd-2a2f6e825973"
      },
      "source": [
        "imshow(cell_y)"
      ],
      "execution_count": 51,
      "outputs": [
        {
          "output_type": "stream",
          "text": [
            "/usr/local/lib/python3.7/dist-packages/skimage/io/_plugins/matplotlib_plugin.py:150: UserWarning: Low image data range; displaying image with stretched contrast.\n",
            "  lo, hi, cmap = _get_display_range(image)\n"
          ],
          "name": "stderr"
        },
        {
          "output_type": "execute_result",
          "data": {
            "text/plain": [
              "<matplotlib.image.AxesImage at 0x7f5b5be89a10>"
            ]
          },
          "metadata": {
            "tags": []
          },
          "execution_count": 51
        },
        {
          "output_type": "display_data",
          "data": {
            "image/png": "[encoded data removed]",
            "text/plain": [
              "<Figure size 432x288 with 2 Axes>"
            ]
          },
          "metadata": {
            "tags": [],
            "needs_background": "light"
          }
        }
      ]
    },
    {
      "cell_type": "code",
      "metadata": {
        "colab": {
          "base_uri": "https://localhost:8080/"
        },
        "id": "pODfuDOBjLR4",
        "outputId": "dbc20d09-1356-40b6-a128-a9fe2a0aa8a5"
      },
      "source": [
        "print(angle_y*180/np.pi, cell_skew, cell_angle*180/np.pi )"
      ],
      "execution_count": 52,
      "outputs": [
        {
          "output_type": "stream",
          "text": [
            "-76.90778403973586 2.3542003256535486 13.092215960264149\n"
          ],
          "name": "stdout"
        }
      ]
    },
    {
      "cell_type": "code",
      "metadata": {
        "colab": {
          "base_uri": "https://localhost:8080/"
        },
        "id": "D9gORNaUiXkN",
        "outputId": "1c870b4c-4db3-45cd-aa1f-c3babd573cca"
      },
      "source": [
        "polarization"
      ],
      "execution_count": 53,
      "outputs": [
        {
          "output_type": "execute_result",
          "data": {
            "text/plain": [
              "array([2.29300701, 0.53327107])"
            ]
          },
          "metadata": {
            "tags": []
          },
          "execution_count": 53
        }
      ]
    },
    {
      "cell_type": "code",
      "metadata": {
        "colab": {
          "base_uri": "https://localhost:8080/",
          "height": 284
        },
        "id": "IOW7z7mauTkl",
        "outputId": "d02f3e89-b3b5-49df-90c3-19208cbcee71"
      },
      "source": [
        "plt.plot(proj_x)"
      ],
      "execution_count": 54,
      "outputs": [
        {
          "output_type": "execute_result",
          "data": {
            "text/plain": [
              "[<matplotlib.lines.Line2D at 0x7f5b5bdc6750>]"
            ]
          },
          "metadata": {
            "tags": []
          },
          "execution_count": 54
        },
        {
          "output_type": "display_data",
          "data": {
            "image/png": "[encoded data removed]",
            "text/plain": [
              "<Figure size 432x288 with 1 Axes>"
            ]
          },
          "metadata": {
            "tags": [],
            "needs_background": "light"
          }
        }
      ]
    },
    {
      "cell_type": "code",
      "metadata": {
        "id": "2YTYcjkLtaDi"
      },
      "source": [
        "#PROTRUSION AND RETRACTION VECTORS : angle, norm_areas\n",
        "difference  = get_centered_cell(iframe+1) - get_centered_cell(iframe)\n",
        "#get centroids of cell(iframe), protrusion and retraction\n",
        "y,x =np.where(get_centered_cell(iframe))\n",
        "centroidy, centroidx = np.median(y), np.median(x)\n",
        "yp,xp = np.where(difference==1)\n",
        "protrusion_y, protrusion_x  = np.median(yp) , np.median(xp)\n",
        "yr,xr = np.where(difference==-1)\n",
        "retraction_y, retraction_x  = np.median(yr) , np.median(xr) \n",
        "#get protr and retr angle in a regular coordinate system: [ximage , - yimage]\n",
        "#and norm_areas\n",
        "protrusion_angle=np.arctan2( -(protrusion_y - centroidy) , protrusion_x - centroidx) \n",
        "protrusion_norm_area=len(yp)/ len(y)\n",
        "retraction_angle=np.arctan2( -(retraction_y - centroidy), retraction_x - centroidx)  \n",
        "retraction_norm_area= len(yr)/len(y) \n"
      ],
      "execution_count": 55,
      "outputs": []
    },
    {
      "cell_type": "code",
      "metadata": {
        "colab": {
          "base_uri": "https://localhost:8080/",
          "height": 315
        },
        "id": "SZRTUC_tlZsW",
        "outputId": "a0f2abf2-abd8-449e-c5d4-b2f8ae3c0ea6"
      },
      "source": [
        "difference  = get_centered_cell(iframe+1) - get_centered_cell(iframe)\n",
        "imshow(difference)"
      ],
      "execution_count": 56,
      "outputs": [
        {
          "output_type": "execute_result",
          "data": {
            "text/plain": [
              "<matplotlib.image.AxesImage at 0x7f5b5bdb5910>"
            ]
          },
          "metadata": {
            "tags": []
          },
          "execution_count": 56
        },
        {
          "output_type": "display_data",
          "data": {
            "image/png": "[encoded data removed]",
            "text/plain": [
              "<Figure size 432x288 with 2 Axes>"
            ]
          },
          "metadata": {
            "tags": [],
            "needs_background": "light"
          }
        }
      ]
    },
    {
      "cell_type": "code",
      "metadata": {
        "colab": {
          "base_uri": "https://localhost:8080/",
          "height": 395
        },
        "id": "8vAVqX9fz6C2",
        "outputId": "4f8ce9c1-f105-4cdc-cd59-20ab117aca8e"
      },
      "source": [
        "fig = plt.figure(figsize=(12, 6))\n",
        "ax_image = fig.add_subplot(111) \n",
        "\n",
        "ax_image.imshow(difference, cmap='coolwarm')\n",
        "ax_image.scatter(centroidx,centroidy,color='magenta',s=5)\n",
        "ax_image.scatter(protrusion_x,protrusion_y,color='red',s=5)\n",
        "ax_image.scatter(retraction_x,retraction_y,color='blue',s=5)"
      ],
      "execution_count": 57,
      "outputs": [
        {
          "output_type": "execute_result",
          "data": {
            "text/plain": [
              "<matplotlib.collections.PathCollection at 0x7f5b5bc81b10>"
            ]
          },
          "metadata": {
            "tags": []
          },
          "execution_count": 57
        },
        {
          "output_type": "display_data",
          "data": {
            "image/png": "[encoded data removed]",
            "text/plain": [
              "<Figure size 864x432 with 1 Axes>"
            ]
          },
          "metadata": {
            "tags": [],
            "needs_background": "light"
          }
        }
      ]
    },
    {
      "cell_type": "code",
      "metadata": {
        "colab": {
          "base_uri": "https://localhost:8080/"
        },
        "id": "0R8LBKRvSF56",
        "outputId": "e3bc3f48-e310-4cbe-e7cf-d895705c75c8"
      },
      "source": [
        "print(protrusion_angle*180/np.pi,retraction_angle*180/np.pi )"
      ],
      "execution_count": 58,
      "outputs": [
        {
          "output_type": "stream",
          "text": [
            "23.19859051364819 -59.03624346792648\n"
          ],
          "name": "stdout"
        }
      ]
    },
    {
      "cell_type": "code",
      "metadata": {
        "id": "Asd6R9NYSHv1"
      },
      "source": [
        ""
      ],
      "execution_count": null,
      "outputs": []
    }
  ]
}