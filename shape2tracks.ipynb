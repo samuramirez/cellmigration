{
  "nbformat": 4,
  "nbformat_minor": 0,
  "metadata": {
    "colab": {
      "name": "shape2tracks.ipynb",
      "provenance": [],
      "collapsed_sections": [
        "gvEFAiXtwdUC",
        "FQDvtQ4inCxi",
        "uD3EaZwd3bfF",
        "i--x8-NSBNvO"
      ],
      "include_colab_link": true
    },
    "kernelspec": {
      "display_name": "Python 3",
      "name": "python3"
    },
    "language_info": {
      "name": "python"
    }
  },
  "cells": [
    {
      "cell_type": "markdown",
      "metadata": {
        "id": "view-in-github",
        "colab_type": "text"
      },
      "source": [
        "<a href=\"https://colab.research.google.com/github/samuramirez/cellmigration/blob/master/shape2tracks.ipynb\" target=\"_parent\"><img src=\"https://colab.research.google.com/assets/colab-badge.svg\" alt=\"Open In Colab\"/></a>"
      ]
    },
    {
      "cell_type": "markdown",
      "metadata": {
        "id": "5mvQa2M5Ausc"
      },
      "source": [
        "### Mount Google Drive (Colab can see Drive files) and authenticate so that we can interact with GCP via SDK"
      ]
    },
    {
      "cell_type": "code",
      "metadata": {
        "colab": {
          "base_uri": "https://localhost:8080/"
        },
        "id": "eKZbquC3Ausg",
        "outputId": "53b70f6b-3e0d-4af0-e021-3866dd619529"
      },
      "source": [
        "from google.colab import drive\n",
        "drive.mount('/content/drive')"
      ],
      "execution_count": 1,
      "outputs": [
        {
          "output_type": "stream",
          "name": "stdout",
          "text": [
            "Mounted at /content/drive\n"
          ]
        }
      ]
    },
    {
      "cell_type": "code",
      "metadata": {
        "id": "sAF_cEvVAusj"
      },
      "source": [
        "from google.colab import auth\n",
        "#This allows SDK to see and edit Google Drive files\n",
        "#SDK is required to interact with GCP\n",
        "auth.authenticate_user()"
      ],
      "execution_count": 2,
      "outputs": []
    },
    {
      "cell_type": "markdown",
      "metadata": {
        "id": "Neqk84E9qYUr"
      },
      "source": [
        "# Add cell shape features to tracks"
      ]
    },
    {
      "cell_type": "markdown",
      "metadata": {
        "id": "gvEFAiXtwdUC"
      },
      "source": [
        "### Load required libraries "
      ]
    },
    {
      "cell_type": "code",
      "metadata": {
        "id": "Yrrdabb6wdUE"
      },
      "source": [
        "import numpy as np\n",
        "from ipywidgets import interact, widgets, Layout\n",
        "import matplotlib.pyplot as plt\n",
        "from matplotlib import cm\n",
        "from skimage.io import imread, imsave, imshow\n",
        "from skimage import data, filters, measure, morphology\n",
        "from skimage.exposure import rescale_intensity\n",
        "from skimage.transform import rescale, resize, downscale_local_mean, rotate\n",
        "from skimage.measure import  regionprops, regionprops_table\n",
        "import pandas as pd\n",
        "import ntpath\n",
        "import os\n",
        "import pickle\n",
        "import copy\n",
        "import re\n",
        "import glob\n",
        "from scipy.stats import skew\n",
        "from google.cloud import storage\n",
        "\n",
        "\n",
        "#Get from Drive the folder libraries\n",
        "!cp -r /content/drive/MyDrive/libraries/centers.py /content\n",
        "from centers import get_centers"
      ],
      "execution_count": 3,
      "outputs": []
    },
    {
      "cell_type": "markdown",
      "metadata": {
        "id": "FQDvtQ4inCxi"
      },
      "source": [
        "### (Not using this now) Specify names for bucket and analysis data folder to read data"
      ]
    },
    {
      "cell_type": "code",
      "metadata": {
        "id": "C-BWBWbpkNJb"
      },
      "source": [
        "#@markdown Input required to copy data from bucket to colab (tracks, images and masks)\n",
        "\n",
        "#@markdown bucketName is the GCP bucket where data is stored\n",
        "bucketName = 'cellmbucket' #@param {type:\"string\"}\n",
        "#@markdown analysis_folder is the name of the base folder in the bucket where the trial folders are found (same name as output_path in segmentationQC_trackingQC notebook excluding '/trial#' part)\n",
        "analysis_folder='analysis_sam_062819'  #@param {type:\"string\"}\n",
        "\n",
        "#bucketName = os.environ.get('cellmbucket')\n",
        "os.environ['GCLOUD_PROJECT'] = bucketName\n",
        "\n",
        "storage_client = storage.Client()\n",
        "bucket = storage_client.get_bucket(bucketName)"
      ],
      "execution_count": null,
      "outputs": []
    },
    {
      "cell_type": "markdown",
      "metadata": {
        "id": "uD3EaZwd3bfF"
      },
      "source": [
        "###Define functions"
      ]
    },
    {
      "cell_type": "code",
      "metadata": {
        "id": "f3D4gh9w3aRu"
      },
      "source": [
        "#function to read a mask corresponding to a given movie (implicit parameter), and frame (explicit parameter iframe)\n",
        "get_mask = lambda iframe: imread( masks_folder +'/'+ basename+ '_s' + str(int(movie)) +'_t' + str(int(frame[iframe])) + '.TIF')\n",
        "\n",
        "#function that returns the mask of a cell centered. It takes the cell label in the mask, and the movie\n",
        "#as implicit parameters determined by the track information (as used later). \n",
        "def get_centered_cell(iframe):\n",
        "  mask=get_mask(iframe)\n",
        "  #erase all objects with different label as cell\n",
        "  mask[mask != label[iframe] ] =0\n",
        "  #set cell positions as 1\n",
        "  mask[mask > 0 ] = 1\n",
        "  props = measure.regionprops(mask)\n",
        "  #center image\n",
        "  centroid=props[0].centroid\n",
        "  N=mask.shape\n",
        "  centered=mask[np.ix_((np.arange(N[0]) + int(centroid[0]) - int(N[0]/2)) % N[0] , (np.arange(N[1]) + int(centroid[1]) - int(N[1]/2)) % N[1])]\n",
        "  return centered\n",
        "\n",
        "#function that returns the mask of a cell. It takes the cell label in the mask, and the movie\n",
        "#as implicit parameters determined by the track information (as used later).\n",
        "def get_cell(iframe):\n",
        "  mask=get_mask(iframe)  \n",
        "  #erase all objects with different label as cell\n",
        "  mask[mask != label[iframe] ] =0\n",
        "  #set cell positions as 1\n",
        "  mask[mask > 0 ] = 1\n",
        "\n",
        "  return mask\n",
        "\n",
        "rotation_matrix = lambda angle: np.asarray([[np.cos(angle) , -np.sin(angle)],[np.sin(angle), np.cos(angle)]] )\n",
        "\n",
        "\n",
        "def skew_from_hist(hist):\n",
        "  value = np.asarray(range(len(hist)))\n",
        "  mean = np.sum(hist*value)/np.sum(hist)\n",
        "  m2 = np.sum(hist*(value-mean)**2)/np.sum(hist)\n",
        "  m3 = np.sum(hist*(value-mean)**3)/np.sum(hist)\n",
        "  return  m3/m2**(3/2) \n"
      ],
      "execution_count": 4,
      "outputs": []
    },
    {
      "cell_type": "markdown",
      "metadata": {
        "id": "-jT9vJd6S24W"
      },
      "source": [
        "###Get file names and folder output"
      ]
    },
    {
      "cell_type": "code",
      "metadata": {
        "id": "2wuQV7tYQEx2"
      },
      "source": [
        "treatment_paths = ['cellmbucket/analysis/arpc2_ko_paths.txt']\n"
      ],
      "execution_count": 7,
      "outputs": []
    },
    {
      "cell_type": "code",
      "metadata": {
        "colab": {
          "base_uri": "https://localhost:8080/"
        },
        "id": "gpAby3B8Pnrv",
        "outputId": "4a7c15f2-e097-4bbc-b929-7a9b639c0783"
      },
      "source": [
        "#read treatment locations file\n",
        "file_paths =[]\n",
        "\n",
        "for treatment_path in treatment_paths:\n",
        "\n",
        "  !gsutil cp gs://{treatment_path} ./\n",
        "  treatment_file = ntpath.basename(treatment_path)\n",
        "  treatment_obj = open(treatment_file, \"r\")\n",
        "  treatment_locs = treatment_obj.readlines()\n",
        "  for i in range(1,len(treatment_locs)):\n",
        "    if len(treatment_locs[i].strip(\"\\n\")) > 0: #if line contains data\n",
        "      #file_paths.append(treatment_locs[i].strip(\"\\n\")+'_tracks_shape.pkl')\n",
        "      file_paths.append(treatment_locs[i].strip(\"\\n\"))   "
      ],
      "execution_count": 8,
      "outputs": [
        {
          "output_type": "stream",
          "name": "stdout",
          "text": [
            "Copying gs://cellmbucket/analysis/arpc2_ko_paths.txt...\n",
            "/ [0 files][    0.0 B/  285.0 B]                                                \r/ [1 files][  285.0 B/  285.0 B]                                                \r\n",
            "Operation completed over 1 objects/285.0 B.                                      \n"
          ]
        }
      ]
    },
    {
      "cell_type": "code",
      "metadata": {
        "id": "bl8Y-zeFRvLl"
      },
      "source": [
        "#read files going through analysis preprocessing folder\n",
        "\n",
        "# for blob in bucket.list_blobs(prefix=analysis_folder):\n",
        "#   if '_tracksqc.pkl' in blob.name:\n",
        "#     output_path = bucketName + '/' + os.path.dirname(blob.name)\n",
        "#     experiment = os.path.basename(blob.name).replace('_tracksqc.pkl', '')"
      ],
      "execution_count": 9,
      "outputs": []
    },
    {
      "cell_type": "markdown",
      "metadata": {
        "id": "DTGWU7iV7EMz"
      },
      "source": [
        "###Add shape metrics to tracks and save in GCS"
      ]
    },
    {
      "cell_type": "code",
      "metadata": {
        "id": "2QpS7WKY4NDr"
      },
      "source": [
        "for file_path in file_paths:\n",
        "  output_path =  os.path.dirname(file_path)\n",
        "  experiment = os.path.basename(file_path)\n",
        "\n",
        "  #Read data \n",
        "  #read labeled masks and tracks\n",
        "  !gsutil cp gs://{output_path}/{experiment}_labeledmasks.zip ./  \n",
        "\n",
        "  #unzip labeld masks\n",
        "  !unzip {experiment}_labeledmasks.zip\n",
        "\n",
        "  masks_folder = experiment+'_labeledmasks'\n",
        "\n",
        "  #read pickled tracks\n",
        "  !gsutil cp gs://{output_path}/{experiment}_tracksqc.pkl .\n",
        "  tracks_filename = experiment+ '_tracksqc.pkl'\n",
        "  #unpickle tracks  \n",
        "  with open(tracks_filename, 'rb') as handle:\n",
        "    tracks_noshape = pickle.load(handle, encoding='latin1') \n",
        "  \n",
        "  #create folder to store masks from tracks\n",
        "  !mkdir {experiment}_tracks_masks\n",
        "  \n",
        "  \n",
        "  ###Loop to add features to each timepoint of all the tracks\n",
        "  #Add morphological and morphodynamical features to each timepoint (frame) in the tracks\n",
        "\n",
        "  tracks = copy.copy(tracks_noshape)\n",
        "\n",
        "  for itrack in range(len(tracks)):\n",
        "    tracklength = len(tracks[itrack])\n",
        "    #store experiment and id_track, to retrieve track_masks from track\n",
        "    tracks[itrack][\"experiment\"]=experiment\n",
        "    tracks[itrack][\"track_id\"]=str(itrack)\n",
        "    #read data to retrieve corresponding labeled mask cell\n",
        "    movie = tracks[itrack]['movie'].iloc[0]\n",
        "    frame = list(tracks[itrack]['frame'])\n",
        "    label = list(tracks[itrack]['label'])\n",
        "    masks=os.listdir(masks_folder)\n",
        "    #implicit argument to read cells\n",
        "    basename=re.findall(r\"(.+)_s\",masks[0])[0] \n",
        "\n",
        "    #get polarization angle, skew, protrusion and retraction angle,norm area, radii \n",
        "\n",
        "    track_masks=[]\n",
        "    median_centroidy = []\n",
        "    median_centroidx = []\n",
        "    protrusion_angles=[]\n",
        "    mean_protrusion_angles=[]\n",
        "    protrusion_norm_radii =[]\n",
        "    protrusion_norm_areas=[]\n",
        "    retraction_angles=[]\n",
        "    mean_retraction_angles=[]\n",
        "    retraction_norm_areas=[]\n",
        "    retraction_norm_radii=[]\n",
        "    mean_retraction_norm_radii=[]\n",
        "    mean_protrusion_norm_radii =[]\n",
        "\n",
        "    cell_angles = []\n",
        "    cell_skews = []\n",
        "\n",
        "    #select scikit-image shape metrics\n",
        "    shape_metrics = ['area','convex_area','eccentricity','orientation','perimeter','equivalent_diameter','solidity','extent','major_axis_length','minor_axis_length','centroid']\n",
        "\n",
        "    track_shape_metrics = pd.DataFrame()\n",
        "\n",
        "    #GET SCIKIT-IMAGE CELL METRICS AND SAVE CELL MASK\n",
        "    for iframe in range(tracklength):\n",
        "      cell = get_cell(iframe)    \n",
        "      cell_shape_metrics = measure.regionprops_table(cell, properties = shape_metrics)        \n",
        "      cell_shape_metrics=pd.DataFrame(cell_shape_metrics)\n",
        "      #append cell shape metrics to track shape metrics\n",
        "      track_shape_metrics = track_shape_metrics.append(cell_shape_metrics, ignore_index=True)\n",
        "      #get median calculated centroid\n",
        "      celly,cellx = np.where(cell)\n",
        "      median_centroidy.append( np.median(celly) ) \n",
        "      median_centroidx.append( np.median(cellx) )\n",
        "\n",
        "      #store cell mask\n",
        "      track_masks.append(cell)\n",
        "\n",
        "    #SAVE TRACK MASKS AS TIFF STACKS\n",
        "    track_masks = np.asarray(track_masks)\n",
        "    imsave(experiment+\"_tracks_masks\" + '/'+ experiment +\"_track\"+ str(itrack) + '.TIF' , track_masks)\n",
        "\n",
        "\n",
        "\n",
        "    for iframe in range(tracklength-1):\n",
        "\n",
        "      #GET CELL POLARIZATION ANGLE \n",
        "      cell_centered = get_centered_cell(iframe)\n",
        "      props = regionprops(cell_centered)\n",
        "      #major axis angle with respect to y (0 axis : rows) counter-clockwise -pi/2 , pi/2  \n",
        "      angle_y = props[0].orientation\n",
        "      #rotate cell so that major axis is aligned with the y axis\n",
        "      cell_y = rotate(cell_centered,-angle_y*180/np.pi,order=0, preserve_range=True)\n",
        "      #project cell on the x (1) axis\n",
        "      proj_x = np.sum(cell_y,1)      \n",
        "      #get cell polarization vector in a regular coordinate system\n",
        "      #skew sign corresponds to the tail of the distribution, cell polarization is  \n",
        "      #defined here as -skew. Because image y-axis is inverted, in a regular coordinate\n",
        "      #system, cell polarization vector is defined as -(-skew) = skew:\n",
        "      skew_cell = skew_from_hist(proj_x)\n",
        "      celly_polarization = [0 , skew_cell ]      \n",
        "      #rotate back\n",
        "      polarization = np.dot( rotation_matrix(angle_y) , celly_polarization )\n",
        "      cell_angles.append( np.arctan2(polarization[1],polarization[0]) )\n",
        "      cell_skews.append(abs(skew_cell)) \n",
        "\n",
        "\n",
        "      #PROTRUSION AND RETRACTION VECTORS : angle, norm_areas, radii (calculated with medians)\n",
        "      difference  = get_centered_cell(iframe+1) - get_centered_cell(iframe)\n",
        "      #get centroids of cell(iframe), protrusion and retraction\n",
        "      y,x =np.where(get_centered_cell(iframe))\n",
        "      centroidy, centroidx = np.median(y), np.median(x)\n",
        "      yp,xp = np.where(difference==1)\n",
        "      protrusion_y, protrusion_x  = np.median(yp) , np.median(xp)\n",
        "      yr,xr = np.where(difference==-1)\n",
        "      retraction_y, retraction_x  = np.median(yr) , np.median(xr) \n",
        "      #get protr and retr angle in a regular coordinate system: [ximage , - yimage]\n",
        "      #and norm_areas\n",
        "      protrusion_angles.append( np.arctan2( -(protrusion_y - centroidy) , protrusion_x - centroidx) )\n",
        "      protrusion_norm_areas.append(len(yp)/ len(y))\n",
        "      #effective radius (area/pi)^0.5\n",
        "      protrusion_norm_radii.append( ((protrusion_x-centroidx)**2+(protrusion_y-centroidy)**2)**0.5/(len(y)/np.pi)**0.5 )\n",
        "      retraction_angles.append(np.arctan2( -(retraction_y - centroidy), retraction_x - centroidx)  )\n",
        "      retraction_norm_areas.append( len(yr)/len(y) )\n",
        "      retraction_norm_radii.append( ((retraction_x-centroidx)**2+(retraction_y-centroidy)**2)**0.5/(len(y)/np.pi)**0.5 )\n",
        "\n",
        "\n",
        "      #PROTRUSION AND RETRACTION angles, radii, calculated with means\n",
        "      #get centroids of cell(iframe), protrusion and retraction\n",
        "      mean_centroidy, mean_centroidx = np.mean(y), np.mean(x)\n",
        "      mean_protrusion_y, mean_protrusion_x  = np.mean(yp) , np.mean(xp)\n",
        "      mean_retraction_y, mean_retraction_x  = np.mean(yr) , np.mean(xr) \n",
        "      #get protr and retr angle in a regular coordinate system: [ximage , - yimage]\n",
        "      #and norm_areas\n",
        "      mean_protrusion_angles.append(np.arctan2( -(mean_protrusion_y - mean_centroidy), mean_protrusion_x - mean_centroidx) )\n",
        "      mean_retraction_angles.append(np.arctan2( -(mean_retraction_y - mean_centroidy), mean_retraction_x - mean_centroidx) )\n",
        "      mean_protrusion_norm_radii.append( ((mean_protrusion_x-mean_centroidx)**2+(mean_protrusion_y-mean_centroidy)**2)**0.5/(len(y)/np.pi)**0.5 )\n",
        "      mean_retraction_norm_radii.append( ((mean_retraction_x-mean_centroidx)**2+(mean_retraction_y-mean_centroidy)**2)**0.5/(len(y)/np.pi)**0.5 )\n",
        "\n",
        "\n",
        "    med_centroids = pd.DataFrame({'median_centroidx':median_centroidx, 'median_centroidy':median_centroidy})\n",
        "\n",
        "    shape_features= pd.DataFrame({'polarity_angle':cell_angles, 'abs-skew':cell_skews, \n",
        "                              'protr_angle':protrusion_angles, 'mean_protr_angle':mean_protrusion_angles, 'protr_norm_area':protrusion_norm_areas, \n",
        "                          'retr_angle': retraction_angles, 'mean_retr_angle': mean_retraction_angles, 'retr_norm_area': retraction_norm_areas,\n",
        "                          'protr_norm_radii':protrusion_norm_radii, 'mean_protr_norm_radii':mean_protrusion_norm_radii,\n",
        "                          'retr_norm_radii':retraction_norm_radii, 'mean_retr_norm_radii':mean_retraction_norm_radii, })\n",
        "\n",
        "    tracks[itrack] = pd.concat([tracks[itrack].reset_index(drop=True), track_shape_metrics.reset_index(drop=True)], axis = 1 )\n",
        "\n",
        "    tracks[itrack] = pd.concat([tracks[itrack].reset_index(drop=True), med_centroids.reset_index(drop=True)], axis = 1 )\n",
        "\n",
        "    tracks[itrack] = pd.concat([tracks[itrack].reset_index(drop=True), shape_features.reset_index(drop=True)], axis = 1 )\n",
        "\n",
        "  ###Save updated tracks\n",
        "\n",
        "  with open(experiment+'_tracks_shape.pkl', 'wb') as handle:\n",
        "      pickle.dump(tracks, handle, protocol=2)\n",
        "\n",
        "  #transfer data (tracks_masks and tracks_shape) to GCP bucket\n",
        "  !zip -r {experiment}_tracks_masks.zip {experiment}_tracks_masks\n",
        "  !gsutil cp {experiment}_tracks_masks.zip gs://{output_path}\n",
        "\n",
        "  !gsutil cp {experiment}_tracks_shape.pkl gs://{output_path}\n",
        "\n",
        "  #remove labeled masks folder and tracks_masks folder from experiment in local folder\n",
        "  !rm -r {masks_folder}\n",
        "  !rm -r {experiment}_tracks_masks\n"
      ],
      "execution_count": null,
      "outputs": []
    },
    {
      "cell_type": "markdown",
      "metadata": {
        "id": "i--x8-NSBNvO"
      },
      "source": [
        "# Code to visualize and verify quantificaion of polarization and protrusion/retraction orientation"
      ]
    },
    {
      "cell_type": "code",
      "metadata": {
        "id": "ZaRjLAAZz0QM"
      },
      "source": [
        "# for blob in bucket.list_blobs(prefix=analysis_folder):\n",
        "#   if '_tracksqc.pkl' in blob.name:\n",
        "#     output_path = bucketName + '/' + os.path.dirname(blob.name)\n",
        "#     experiment = os.path.basename(blob.name).replace('_tracksqc.pkl', '')\n",
        "\n",
        "# #Read data \n",
        "# #read labeled masks and tracks\n",
        "# !gsutil cp gs://{output_path}/{experiment}_labeledmasks.zip ./  \n",
        "\n",
        "# #unzip labeld masks\n",
        "# !unzip {experiment}_labeledmasks.zip\n",
        "\n",
        "# masks_folder = experiment+'_labeledmasks'\n",
        "\n",
        "# #read pickled tracks\n",
        "# !gsutil cp gs://{output_path}/{experiment}_tracksqc.pkl .\n",
        "# tracks_filename = experiment+ '_tracksqc.pkl'\n",
        "# #unpickle tracks  \n",
        "# with open(tracks_filename, 'rb') as handle:\n",
        "#   tracks_noshape = pickle.load(handle, encoding='latin1') \n",
        "\n",
        "# #create folder to store masks from tracks\n",
        "# !mkdir {experiment}_tracks_masks\n",
        "\n",
        "\n",
        "###Loop to add features to each timepoint of all the tracks\n",
        "#Add morphological and morphodynamical features to each timepoint (frame) in the tracks\n",
        "\n",
        "tracks = copy.copy(tracks_noshape)\n",
        "print(np.shape(tracks))\n"
      ],
      "execution_count": null,
      "outputs": []
    },
    {
      "cell_type": "code",
      "metadata": {
        "colab": {
          "base_uri": "https://localhost:8080/"
        },
        "id": "mNgIIDlvn45Z",
        "outputId": "64360666-1fd9-42a2-c316-deab5f845d9d"
      },
      "source": [
        "!du -sh {masks_folder}"
      ],
      "execution_count": null,
      "outputs": [
        {
          "name": "stdout",
          "output_type": "stream",
          "text": [
            "3.9G\t060222021_Fascin_KO_sample4_labeledmasks\n"
          ]
        }
      ]
    },
    {
      "cell_type": "code",
      "metadata": {
        "id": "erJO2CgBEpAn"
      },
      "source": [
        "tracks[1]"
      ],
      "execution_count": null,
      "outputs": []
    },
    {
      "cell_type": "code",
      "metadata": {
        "colab": {
          "base_uri": "https://localhost:8080/",
          "height": 315
        },
        "id": "LaRG4bQ5cZax",
        "outputId": "e3ab8110-474d-490e-8698-21c7afef06b5"
      },
      "source": [
        "itrack=6\n",
        "iframe=5\n",
        "movie = tracks[itrack]['movie'][0]\n",
        "frame = list(tracks[itrack]['frame'])\n",
        "label = list(tracks[itrack]['label'])\n",
        "masks=os.listdir(masks_folder)\n",
        "basename=re.findall(r\"(.+)_s\",masks[0])[0] \n",
        "#imshow(get_centered_cell(iframe))\n",
        "difference  = get_centered_cell(iframe+1) - get_centered_cell(iframe)\n",
        "imshow(difference)\n",
        "#print(basename,movie)"
      ],
      "execution_count": null,
      "outputs": [
        {
          "data": {
            "text/plain": [
              "<matplotlib.image.AxesImage at 0x7f9cebbfe050>"
            ]
          },
          "execution_count": 14,
          "metadata": {},
          "output_type": "execute_result"
        },
        {
          "data": {
            "image/png": "[encoded data removed]",
            "text/plain": [
              "<Figure size 432x288 with 2 Axes>"
            ]
          },
          "metadata": {},
          "output_type": "display_data"
        }
      ]
    },
    {
      "cell_type": "code",
      "metadata": {
        "id": "nwEPS3TtmVXe"
      },
      "source": [
        "# cell = get_cell(iframe)\n",
        "\n",
        "# shape_metrics = ['area','convex_area','eccentricity','orientation','perimeter','equivalent_diameter','solidity','extent','major_axis_length','minor_axis_length','centroid']\n",
        "# props = measure.regionprops_table(cell, properties=shape_metrics)\n",
        "# props\n",
        "\n",
        "#import inspect\n",
        "#props = measure.regionprops(cell)\n",
        "#inspect.getmembers(props[0])\n"
      ],
      "execution_count": null,
      "outputs": []
    },
    {
      "cell_type": "code",
      "metadata": {
        "id": "r3iHfeysiKl8"
      },
      "source": [
        "cell_centered = get_centered_cell(iframe)\n",
        "props = regionprops(cell_centered)\n",
        "#major axis angle with respect to y (0 axis : rows) counter-clockwise -pi/2 , pi/2  \n",
        "angle_y = props[0].orientation\n",
        "#rotate cell so that major axis is aligned with the y axis\n",
        "cell_y = rotate(cell_centered,-angle_y*180/np.pi,order=0, preserve_range=True)\n",
        "#project cell on the x (1) axis\n",
        "proj_x = np.sum(cell_y,1)      \n",
        "#get cell polarization vector in a regular coordinate system\n",
        "#skew sign corresponds to the tail of the distribution, cell polarization is  \n",
        "#defined here as -skew. Because image y-axis is inverted, in a regular coordinate\n",
        "#system, cell polarization vector is defined as -(-skew) = skew:\n",
        "skew_cell = skew_from_hist(proj_x)\n",
        "celly_polarization = [0 , skew_cell ]      \n",
        "#rotate back\n",
        "polarization = np.dot( rotation_matrix(angle_y) , celly_polarization )\n",
        "cell_angle =  np.arctan2(polarization[1],polarization[0]) \n"
      ],
      "execution_count": null,
      "outputs": []
    },
    {
      "cell_type": "code",
      "metadata": {
        "colab": {
          "base_uri": "https://localhost:8080/",
          "height": 315
        },
        "id": "OwFWjUm8l47h",
        "outputId": "b1b549ae-bdd5-4623-dd9d-dba1fc10fb6c"
      },
      "source": [
        "imshow(cell_y)"
      ],
      "execution_count": null,
      "outputs": [
        {
          "data": {
            "text/plain": [
              "<matplotlib.image.AxesImage at 0x7f36bb527ed0>"
            ]
          },
          "execution_count": 125,
          "metadata": {},
          "output_type": "execute_result"
        },
        {
          "data": {
            "image/png": "[encoded data removed]",
            "text/plain": [
              "<Figure size 432x288 with 1 Axes>"
            ]
          },
          "metadata": {},
          "output_type": "display_data"
        }
      ]
    },
    {
      "cell_type": "code",
      "metadata": {
        "colab": {
          "base_uri": "https://localhost:8080/",
          "height": 284
        },
        "id": "IOW7z7mauTkl",
        "outputId": "6ba00288-c46e-48e7-94be-58e37ca28983"
      },
      "source": [
        "plt.plot(proj_x)"
      ],
      "execution_count": null,
      "outputs": [
        {
          "data": {
            "text/plain": [
              "[<matplotlib.lines.Line2D at 0x7f36bb564e50>]"
            ]
          },
          "execution_count": 126,
          "metadata": {},
          "output_type": "execute_result"
        },
        {
          "data": {
            "image/png": "[encoded data removed]",
            "text/plain": [
              "<Figure size 432x288 with 1 Axes>"
            ]
          },
          "metadata": {},
          "output_type": "display_data"
        }
      ]
    },
    {
      "cell_type": "code",
      "metadata": {
        "colab": {
          "base_uri": "https://localhost:8080/"
        },
        "id": "pODfuDOBjLR4",
        "outputId": "903d33cf-f04c-42c6-c101-5d4d6fc8cc53"
      },
      "source": [
        "print(angle_y*180/np.pi, skew_cell, cell_angle*180/np.pi )"
      ],
      "execution_count": null,
      "outputs": [
        {
          "name": "stdout",
          "output_type": "stream",
          "text": [
            "7.951570537678358 0.9244759077157724 97.95157053767836\n"
          ]
        }
      ]
    },
    {
      "cell_type": "code",
      "metadata": {
        "colab": {
          "base_uri": "https://localhost:8080/"
        },
        "id": "D9gORNaUiXkN",
        "outputId": "57a16520-bb90-41a6-b1a7-2525dccf6009"
      },
      "source": [
        "polarization"
      ],
      "execution_count": null,
      "outputs": [
        {
          "data": {
            "text/plain": [
              "array([-0.12788832,  0.9155874 ])"
            ]
          },
          "execution_count": 128,
          "metadata": {},
          "output_type": "execute_result"
        }
      ]
    },
    {
      "cell_type": "code",
      "metadata": {
        "id": "2YTYcjkLtaDi"
      },
      "source": [
        "#PROTRUSION AND RETRACTION VECTORS : angle, norm_areas\n",
        "difference  = get_centered_cell(iframe+1) - get_centered_cell(iframe)\n",
        "#get centroids of cell(iframe), protrusion and retraction\n",
        "y,x =np.where(get_centered_cell(iframe))\n",
        "centroidy, centroidx = np.mean(y), np.mean(x)\n",
        "yp,xp = np.where(difference==1)\n",
        "protrusion_y, protrusion_x  = np.mean(yp) , np.mean(xp)\n",
        "yr,xr = np.where(difference==-1)\n",
        "retraction_y, retraction_x  = np.mean(yr) , np.mean(xr) \n",
        "#get protr and retr angle in a regular coordinate system: [ximage , - yimage]\n",
        "#and norm_areas\n",
        "protrusion_angle=np.arctan2( -(protrusion_y - centroidy) , protrusion_x - centroidx) \n",
        "protrusion_norm_area=len(yp)/ len(y)\n",
        "retraction_angle=np.arctan2( -(retraction_y - centroidy), retraction_x - centroidx)  \n",
        "retraction_norm_area= len(yr)/len(y) \n"
      ],
      "execution_count": null,
      "outputs": []
    },
    {
      "cell_type": "code",
      "metadata": {
        "colab": {
          "base_uri": "https://localhost:8080/",
          "height": 395
        },
        "id": "8vAVqX9fz6C2",
        "outputId": "286c1e1b-4ad3-4eb1-d0f1-ce78384d4c2b"
      },
      "source": [
        "fig = plt.figure(figsize=(12, 6))\n",
        "ax_image = fig.add_subplot(111) \n",
        "retraction =copy.copy(difference)\n",
        "retraction[retraction!=-1] = 0\n",
        "protrution = copy.copy(difference)\n",
        "protrution[protrution != 1] = 0\n",
        "ax_image.imshow(difference, cmap='coolwarm')\n",
        "#ax_image.imshow(protrution,cmap='coolwarm')\n",
        "ax_image.scatter(centroidx,centroidy,color='green',s=5)\n",
        "ax_image.scatter(protrusion_x,protrusion_y,color='red',s=5)\n",
        "ax_image.scatter(retraction_x,retraction_y,color='blue',s=5)\n",
        "ax_image.scatter(centroidx + 100*polarization[0], centroidy - 100*polarization[1],color='black',s=5)"
      ],
      "execution_count": null,
      "outputs": [
        {
          "data": {
            "text/plain": [
              "<matplotlib.collections.PathCollection at 0x7f36bae99b90>"
            ]
          },
          "execution_count": 130,
          "metadata": {},
          "output_type": "execute_result"
        },
        {
          "data": {
            "image/png": "[encoded data removed]",
            "text/plain": [
              "<Figure size 864x432 with 1 Axes>"
            ]
          },
          "metadata": {},
          "output_type": "display_data"
        }
      ]
    },
    {
      "cell_type": "code",
      "metadata": {
        "colab": {
          "base_uri": "https://localhost:8080/"
        },
        "id": "3TKEu4_0wRtt",
        "outputId": "81273643-2981-4322-8469-89c5b293c461"
      },
      "source": [
        "print( cell_angle*180/np.pi, protrusion_angle*180/np.pi, retraction_angle*180/np.pi   )"
      ],
      "execution_count": null,
      "outputs": [
        {
          "name": "stdout",
          "output_type": "stream",
          "text": [
            "97.95157053767836 -77.37085019733725 -78.90613483319466\n"
          ]
        }
      ]
    }
  ]
}